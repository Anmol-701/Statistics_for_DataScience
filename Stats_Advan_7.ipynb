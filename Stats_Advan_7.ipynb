{
 "cells": [
  {
   "cell_type": "markdown",
   "id": "329395f2-0819-4d5f-8ca1-ed2374987bf1",
   "metadata": {},
   "source": [
    "### Problem_1: Write a Python function that takes in two arrays of data and calculates the F-value for a variance ratio test. The function should return the F-value and the corresponding p-value for the test."
   ]
  },
  {
   "cell_type": "code",
   "execution_count": 2,
   "id": "156b27e2-1937-461e-945f-d06ac8d6555a",
   "metadata": {},
   "outputs": [
    {
     "name": "stdout",
     "output_type": "stream",
     "text": [
      "F-value: 25.0000\n",
      "p-value: 0.0011\n"
     ]
    }
   ],
   "source": [
    "from scipy.stats import f_oneway\n",
    "import numpy as np\n",
    "def f_test(data1, data2):\n",
    "  # Check if data is valid\n",
    "  if not isinstance(data1, (list, np.ndarray)) or not isinstance(data2, (list, np.ndarray)):\n",
    "    raise TypeError(\"Input data must be lists or NumPy arrays.\")\n",
    "  \n",
    "  # Perform F-test with scipy.stats.f_oneway\n",
    "  F, p = f_oneway(data1, data2)\n",
    "  return F, p\n",
    "\n",
    "# Example usage\n",
    "data1 = [1, 2, 3, 4, 5]\n",
    "data2 = [6, 7, 8, 9, 10]\n",
    "F, p = f_test(data1, data2)\n",
    "\n",
    "print(f\"F-value: {F:.4f}\")\n",
    "print(f\"p-value: {p:.4f}\")"
   ]
  },
  {
   "cell_type": "markdown",
   "id": "33d10167-152e-49bc-828a-63b56c9d27da",
   "metadata": {},
   "source": [
    "### Problem_2: Given a significance level of 0.05 and the degrees of freedom for the numerator and denominator of an F-distribution, write a Python function that returns the critical F-value for a two-tailed test."
   ]
  },
  {
   "cell_type": "code",
   "execution_count": 3,
   "id": "4de783d8-4886-46a1-9ab7-f60ec3a673f0",
   "metadata": {},
   "outputs": [
    {
     "name": "stdout",
     "output_type": "stream",
     "text": [
      "Critical F-value (alpha=0.0500, df1=10, df2=15): 3.0602\n"
     ]
    }
   ],
   "source": [
    "from scipy.stats import f\n",
    "\n",
    "def critical_f_value(alpha, df1, df2):\n",
    "  # Check if alpha is between 0 and 1\n",
    "  if not 0 < alpha < 1:\n",
    "    raise ValueError(\"alpha must be between 0 and 1.\")\n",
    "  \n",
    "  # Calculate critical F-value with scipy.stats.f.ppf\n",
    "  return f.ppf(1 - alpha / 2, df1, df2)\n",
    "\n",
    "# Example usage\n",
    "alpha = 0.05\n",
    "df1 = 10\n",
    "df2 = 15\n",
    "critical_f = critical_f_value(alpha, df1, df2)\n",
    "\n",
    "print(f\"Critical F-value (alpha={alpha:.4f}, df1={df1}, df2={df2}): {critical_f:.4f}\")\n"
   ]
  },
  {
   "cell_type": "markdown",
   "id": "612823f9-33d0-4e14-a70f-f4bea8be0bcd",
   "metadata": {},
   "source": [
    "### Problem_3: Write a Python program that generates random samples from two normal distributions with known variances and uses an F-test to determine if the variances are equal. The program should output the F-value, degrees of freedom, and p-value for the test."
   ]
  },
  {
   "cell_type": "code",
   "execution_count": 19,
   "id": "683ca3b5-39dd-4d54-8812-c6c3f5ba130a",
   "metadata": {},
   "outputs": [
    {
     "name": "stdout",
     "output_type": "stream",
     "text": [
      "F-test results (alpha=0.0500):\n",
      "\tF-value: 15.8093\n",
      "\tDegrees of freedom (numerator, denominator): (19, 19)\n",
      "\tp-value: 0.0003\n",
      "\tReject null hypothesis (variances are not equal).\n"
     ]
    }
   ],
   "source": [
    "from scipy.stats import norm, f_oneway\n",
    "\n",
    "def f_test_simulation(mu1, mu2, sigma1, sigma2, sample_size, alpha):\n",
    "  # Generate random samples\n",
    "  data1 = norm.rvs(loc=mu1, scale=sigma1, size=sample_size)\n",
    "  data2 = norm.rvs(loc=mu2, scale=sigma2, size=sample_size)\n",
    "\n",
    "  # Perform F-test with f_oneway\n",
    "  F, p = f_oneway(data1, data2)\n",
    "\n",
    "  # Calculate degrees of freedom\n",
    "  df1 = sample_size - 1\n",
    "  df2 = sample_size - 1\n",
    "\n",
    "  # Print results\n",
    "  print(f\"F-test results (alpha={alpha:.4f}):\")\n",
    "  print(f\"\\tF-value: {F:.4f}\")\n",
    "  print(f\"\\tDegrees of freedom (numerator, denominator): ({df1}, {df2})\")\n",
    "  print(f\"\\tp-value: {p:.4f}\")\n",
    "\n",
    "  # Decision rule \n",
    "  if p < alpha:\n",
    "    print(\"\\tReject null hypothesis (variances are not equal).\")\n",
    "  else:\n",
    "    print(\"\\tFail to reject null hypothesis (variances might be equal).\")\n",
    "\n",
    "# Example usage\n",
    "mu1 = 5\n",
    "mu2 = 7\n",
    "sigma1 = 2\n",
    "sigma2 = 1\n",
    "sample_size = 20\n",
    "alpha = 0.05\n",
    "\n",
    "f_test_simulation(mu1, mu2, sigma1, sigma2, sample_size, alpha)"
   ]
  },
  {
   "cell_type": "markdown",
   "id": "ed84c4a3-75cd-45fa-ad30-6208c0736280",
   "metadata": {},
   "source": [
    "### Problem_4: The variances of two populations are known to be 10 and 15. A sample of 12 observations is taken from each population. Conduct an F-test at the 5% significance level to determine if the variances are significantly different."
   ]
  },
  {
   "cell_type": "markdown",
   "id": "ecc90a6c-d34b-4876-8239-f5d1292bc11a",
   "metadata": {},
   "source": [
    "  - We can't directly perform the F-test in this scenario because we don't have the actual data points from the populations. The F-test is designed to compare sample variances, not population variances.\n",
    "  \n",
    "Here's the breakdown:\n",
    "  - Known Population Variances: We know the population variances are 10 and 15.\n",
    "  - Sample Size: We have a sample size of 12 from each population.\n",
    "  - Significance Level: The significance level is set at 0.05 (5%).    \n",
    "  \n",
    "Since the population variances are different (10 vs 15), we would expect the sample variances to also be different with some level of confidence.\n",
    "\n",
    "What the F-test would likely show:\n",
    "  - The F-test statistic would likely be greater than 1 (since 15 is larger than 10).\n",
    "  - By looking up the critical F-value for a two-tailed test with alpha = 0.05, degrees of freedom (df1) = 11 (sample size - 1 for population 1), and degrees of freedom (df2) = 11 (sample size - 1 for population 2), we would compare the F-statistic to the critical value.\n",
    "  - If the F-statistic is greater than the critical F-value, we would reject the null hypothesis (variances are equal) at the 5% significance level.\n",
    "  \n",
    "Conclusion:\n",
    "  - Based on the known population variances being different, the F-test would likely provide evidence to reject the null hypothesis of equal variances between the two populations at the 5% significance level."
   ]
  },
  {
   "cell_type": "markdown",
   "id": "69e3837f-e1a9-4394-aa43-af544993c8ac",
   "metadata": {},
   "source": [
    "### Problem_5: A manufacturer claims that the variance of the diameter of a certain product is 0.005. A sample of 25 products is taken, and the sample variance is found to be 0.006. Conduct an F-test at the 1% significance level to determine if the claim is justified."
   ]
  },
  {
   "cell_type": "markdown",
   "id": "0794d876-99fa-4b4d-9a14-07395be583bc",
   "metadata": {},
   "source": [
    "  - Null Hypothesis (H0): The population variance (σ^2) is equal to 0.005 (as claimed by the manufacturer).\n",
    "  - Alternative Hypothesis (H1): The population variance (σ^2) is not equal to 0.005.\n",
    "\n",
    "Steps:\n",
    "1. Set Significance Level (α): α = 0.01 (1%).\n",
    "2. Sample Data: We have a sample size (n) of 25 and sample variance (s^2) of 0.006.\n",
    "3. Degrees of Freedom: Degrees of freedom for the numerator (df1) is n - 1 = 25 - 1 = 24.\n",
    "4. Critical F-value: We need to find the critical F-value for a two-tailed test with α = 0.01, df1 = 24, and degrees of freedom for the denominator (df2) which is also 24 (since we are comparing variances from a single population)."
   ]
  },
  {
   "cell_type": "code",
   "execution_count": 20,
   "id": "2af6fb28-c9eb-470a-a136-0e8ad15a635e",
   "metadata": {},
   "outputs": [
    {
     "name": "stdout",
     "output_type": "stream",
     "text": [
      "Critical F-value (alpha=0.0100, df1=24, df2=24): 2.9667\n"
     ]
    }
   ],
   "source": [
    "from scipy.stats import f\n",
    "\n",
    "# Significance level\n",
    "alpha = 0.01\n",
    "\n",
    "# Degrees of freedom\n",
    "df1 = 24\n",
    "df2 = 24\n",
    "\n",
    "# Calculate critical F-value\n",
    "critical_f = f.ppf(1 - alpha / 2, df1, df2)\n",
    "\n",
    "print(f\"Critical F-value (alpha={alpha:.4f}, df1={df1}, df2={df2}): {critical_f:.4f}\")"
   ]
  },
  {
   "cell_type": "markdown",
   "id": "f90938d8-75a1-418b-826d-678ffe7a242f",
   "metadata": {},
   "source": [
    "5. F-Statistic Calculation: The F-statistic is calculated as the ratio of the sample variance (s^2) to the claimed population variance (σ^2):\n",
    "F = s^2 / σ^2 = 0.006 / 0.005 = 1.2000\n",
    "\n",
    "6. Decision Rule:\n",
    "   - If the F-statistic (F) is greater than the critical F-value, we reject the null hypothesis (H0).\n",
    "   - If F is less than or equal to the critical F-value, we fail to reject H0.    \n",
    "   \n",
    "Interpretation:\n",
    "  - Assuming the critical F-value is greater than 1.2000 (calculated in step 4), then based on the decision rule, we would fail to reject the null hypothesis (H0). This means there is not enough evidence at the 1% significance level to conclude that the manufacturer's claim of a population variance of 0.005 is incorrect."
   ]
  },
  {
   "cell_type": "markdown",
   "id": "803a7ca2-d45a-44ac-a660-f2432ba1beed",
   "metadata": {},
   "source": [
    "### Problem_6: Write a Python function that takes in the degrees of freedom for the numerator and denominator of an F-distribution and calculates the mean and variance of the distribution. The function should return the mean and variance as a tuple."
   ]
  },
  {
   "cell_type": "code",
   "execution_count": 22,
   "id": "9e625841-31d3-4b71-8eac-73958431ea6f",
   "metadata": {},
   "outputs": [
    {
     "name": "stdout",
     "output_type": "stream",
     "text": [
      "F-distribution (df1=10, df2=15):\n",
      "\tMean: 1.8750\n",
      "\tVariance: 140.6250\n"
     ]
    }
   ],
   "source": [
    "from scipy.stats import f \n",
    "import numpy as np\n",
    "def f_mean_variance(df1, df2):\n",
    "  # Check if degrees of freedom are positive integers\n",
    "  if not isinstance(df1, int) or not isinstance(df2, int) or df1 <= 0 or df2 <= 0:\n",
    "    raise ValueError(\"Degrees of freedom must be positive integers.\")\n",
    "  \n",
    "  # Mean of F-distribution (only defined if df2 > 2)\n",
    "  if df2 > 2:\n",
    "    mu = df2 / (df1 - 2)  \n",
    "  else:\n",
    "    mu = np.nan  # Not defined for df2 <= 2\n",
    "\n",
    "  # Variance of F-distribution (only defined if df2 > 4)\n",
    "  if df2 > 4:\n",
    "    variance = 2 * df2**2 * (df1**2 + 2 * df1) / ((df1 - 2)**2 * (df1 - 4))\n",
    "  else:\n",
    "    variance = np.nan  # Not defined for df2 <= 4\n",
    "\n",
    "  return mu, variance\n",
    "\n",
    "# Example usage\n",
    "df1 = 10\n",
    "df2 = 15\n",
    "mu, var = f_mean_variance(df1, df2)\n",
    "\n",
    "print(f\"F-distribution (df1={df1}, df2={df2}):\")\n",
    "print(f\"\\tMean: {mu:.4f}\" if not np.isnan(mu) else \"Mean: Not defined\")\n",
    "print(f\"\\tVariance: {var:.4f}\" if not np.isnan(var) else \"Variance: Not defined\")\n"
   ]
  },
  {
   "cell_type": "markdown",
   "id": "efac7b83-9317-40eb-a81e-c44a43994b03",
   "metadata": {},
   "source": [
    "### Problem_7: A random sample of 10 measurements is taken from a normal population with unknown variance. The sample variance is found to be 25. Another random sample of 15 measurements is taken from another normal population with unknown variance, and the sample variance is found to be 20. Conduct an F-test at the 10% significance level to determine if the variances are significantly different."
   ]
  },
  {
   "cell_type": "markdown",
   "id": "a2e5221d-f6f9-4c4a-813f-b58e9dc58ec5",
   "metadata": {},
   "source": [
    "  - Null Hypothesis (H0): The population variances (σ₁² and σ₂²) are equal.\n",
    "  - Alternative Hypothesis (H1): The population variances (σ₁² and σ₂²) are not equal.\n",
    "\n",
    "Steps:\n",
    "1. Significance Level (α): α = 0.10 (10%).\n",
    "2. Sample Data:\n",
    "   - Sample size for population 1 (n₁) = 10.\n",
    "   - Sample variance for population 1 (s₁²) = 25.\n",
    "   - Sample size for population 2 (n₂) = 15.\n",
    "   - Sample variance for population 2 (s₂²) = 20.\n",
    "3. Degrees of Freedom:\n",
    "   - Degrees of freedom for numerator (df1) = n₁ - 1 = 10 - 1 = 9.\n",
    "   - Degrees of freedom for denominator (df2) = n₂ - 1 = 15 - 1 = 14.\n",
    "\n",
    "F-Statistic Calculation:\n",
    "  - The F-statistic is calculated as the ratio of the larger sample variance (s₁² in this case) to the smaller sample variance (s₂²):     \n",
    "\n",
    "F = s₁² / s₂² = 25 / 20 = 1.25\n",
    "\n",
    "#### Critical F-value Calculation:"
   ]
  },
  {
   "cell_type": "code",
   "execution_count": 23,
   "id": "d5a557f8-b2e8-49c7-a449-264a267cc829",
   "metadata": {},
   "outputs": [
    {
     "name": "stdout",
     "output_type": "stream",
     "text": [
      "Critical F-values (alpha=0.1000, df1=9, df2=14):\n",
      "\tUpper: 2.6458\n",
      "\tLower: 0.3780\n"
     ]
    }
   ],
   "source": [
    "from scipy.stats import f\n",
    "# Significance level\n",
    "alpha = 0.10\n",
    "\n",
    "# Degrees of freedom\n",
    "df1 = 9\n",
    "df2 = 14\n",
    "\n",
    "# Calculate critical F-value (one-tailed for two-tailed test)\n",
    "critical_f_upper = f.ppf(1 - alpha / 2, df1, df2)\n",
    "critical_f_lower = 1 / critical_f_upper  # Lower critical value for two-tailed test\n",
    "\n",
    "print(f\"Critical F-values (alpha={alpha:.4f}, df1={df1}, df2={df2}):\")\n",
    "print(f\"\\tUpper: {critical_f_upper:.4f}\")\n",
    "print(f\"\\tLower: {critical_f_lower:.4f}\")\n"
   ]
  },
  {
   "cell_type": "markdown",
   "id": "af42a6c3-8b89-4cdd-9360-d77e72e3fb4f",
   "metadata": {},
   "source": [
    "4. Decision Rule:\n",
    "   - If the F-statistic (F) is greater than the upper critical F-value, we reject H0 (variances are different).\n",
    "   - If F is less than the lower critical F-value, we reject H0 (variances are different).\n",
    "   - If F falls between the critical F-values, we fail to reject H0.\n",
    "\n",
    "5. Interpretation:\n",
    "   - Assuming the critical F-values are calculated and the upper value is greater than 1.25 (F-statistic), then based on the decision rule, we would fail to reject the null hypothesis (H0). This means there is not enough evidence at the 10% significance level to conclude that the variances of the two populations are significantly different."
   ]
  },
  {
   "cell_type": "markdown",
   "id": "89d21e64-094b-4ca9-9fee-806a434cb11f",
   "metadata": {},
   "source": [
    "### Problem_8: The following data represent the waiting times in minutes at two different restaurants on a Saturday night: Restaurant A: 24, 25, 28, 23, 22, 20, 27; Restaurant B: 31, 33, 35, 30, 32, 36. Conduct an F-test at the 5% significance level to determine if the variances are significantly different."
   ]
  },
  {
   "cell_type": "markdown",
   "id": "7d6271a4-806d-4132-99a8-03e71cd9fb93",
   "metadata": {},
   "source": [
    "  - Null Hypothesis (H0): The population variances (σ₁² and σ₂²) for waiting times at Restaurant A and Restaurant B are equal.\n",
    "  - Alternative Hypothesis (H1): The population variances (σ₁² and σ₂²) are not equal.\n",
    "\n",
    "Steps:\n",
    "1. Significance Level (α): α = 0.05 (5%).\n",
    "2. Data: We have the waiting times for each restaurant.\n",
    "3. Sample Statistics:\n",
    "   - Calculate the sample variance (s₁²) for Restaurant A.\n",
    "   - Calculate the sample variance (s₂²) for Restaurant B.\n",
    "\n",
    "#### Sample Variance Calculation:"
   ]
  },
  {
   "cell_type": "code",
   "execution_count": 25,
   "id": "2c9d6546-7ba9-4edd-ac64-436dc16b396c",
   "metadata": {},
   "outputs": [
    {
     "name": "stdout",
     "output_type": "stream",
     "text": [
      "Sample variance (unbiased):\n",
      "\tRestaurant A: 7.8095\n",
      "\tRestaurant B: 5.3667\n"
     ]
    }
   ],
   "source": [
    "# Sample data (Example Dataset)\n",
    "restaurant_a = [24, 25, 28, 23, 22, 20, 27]\n",
    "restaurant_b = [31, 33, 35, 30, 32, 36]\n",
    "\n",
    "# Calculate sample variance (unbiased estimator)\n",
    "def unbiased_variance(data):\n",
    "  n = len(data)\n",
    "  mean = sum(data) / n\n",
    "  return sum((x - mean)**2 for x in data) / (n - 1)  # Formula Sample Variance\n",
    "\n",
    "variance_a = unbiased_variance(restaurant_a)\n",
    "variance_b = unbiased_variance(restaurant_b)\n",
    "\n",
    "print(f\"Sample variance (unbiased):\")\n",
    "print(f\"\\tRestaurant A: {variance_a:.4f}\")\n",
    "print(f\"\\tRestaurant B: {variance_b:.4f}\")\n"
   ]
  },
  {
   "cell_type": "markdown",
   "id": "62ac661c-a033-44e5-9b06-82b44dd70678",
   "metadata": {},
   "source": [
    "4. Degrees of Freedom:\n",
    "   - Degrees of freedom for numerator (df1) = sample size for Restaurant A - 1.\n",
    "   - Degrees of freedom for denominator (df2) = sample size for Restaurant B - 1.\n",
    "   \n",
    "F-Statistic Calculation:\n",
    "   - The F-statistic is calculated as the ratio of the larger sample variance to the smaller sample variance:        \n",
    "F = max(variance_a, variance_b) / min(variance_a, variance_b)        \n",
    "F = 7.8095/5.3667 = 1.455\n",
    "\n",
    "Critical F-value Calculation:\n",
    "  - We need to find the critical F-value for a two-tailed test with α = 0.05, df1 (from step 4), and df2 (from step 4). We can use statistical tables.\n",
    "  - So, the Critical F-value = 6.977\n",
    "5. Decision Rule:\n",
    "   - If the F-statistic (F) is greater than the upper critical F-value, we reject H0 (variances are different).\n",
    "   - If F is less than the lower critical F-value, we reject H0 (variances are different).\n",
    "   - If F falls between the critical F-values, we fail to reject H0.\n",
    "6. Interpretation:\n",
    "   - After calculating the sample variances, degrees of freedom, F-statistic, and critical F-values, we can make a conclusion that if f_value(1.455) is greater than critical_f_value(6.977) than Reject the Null Hypothesis(Variance are Significantly different) else Fail to Reject the Null Hypothesis (Variance are not significantly different). Here, It means we fail to reject the null hypothesis : variance are not significantly different."
   ]
  },
  {
   "cell_type": "markdown",
   "id": "c1fe1173-b6c8-4685-a0b4-c67fae86afb0",
   "metadata": {},
   "source": [
    "### Problem_9: The following data represent the test scores of two groups of students: Group A: 80, 85, 90, 92, 87, 83; Group B: 75, 78, 82, 79, 81, 84. Conduct an F-test at the 1% significance level to determine if the variances are significantly different."
   ]
  },
  {
   "cell_type": "markdown",
   "id": "d6abec8b-7546-4320-bc89-91ec53db0cbf",
   "metadata": {},
   "source": [
    "  - Null Hypothesis (H0): The population variances (σ₁² and σ₂²) for the test scores in Group A and Group B are equal.\n",
    "  - Alternative Hypothesis (H1): The population variances (σ₁² and σ₂²) are not equal.\n",
    "\n",
    "  - Significance Level (α): α = 0.01 (1%).\n",
    "\n",
    "Steps:\n",
    "\n",
    "1. Sample Data:\n",
    "   - Group A: 80, 85, 90, 92, 87, 83\n",
    "   - Group B: 75, 78, 82, 79, 81, 84\n",
    "\n",
    "2. Sample Variance Calculation:"
   ]
  },
  {
   "cell_type": "code",
   "execution_count": 31,
   "id": "93413f55-5d8b-4049-a521-207a32ae66db",
   "metadata": {},
   "outputs": [
    {
     "name": "stdout",
     "output_type": "stream",
     "text": [
      "Sample variance (unbiased):\n",
      "\tGroup A: 19.7667\n",
      "\tGroup B: 10.1667\n"
     ]
    }
   ],
   "source": [
    "# Sample data\n",
    "group_a = [80, 85, 90, 92, 87, 83]\n",
    "group_b = [75, 78, 82, 79, 81, 84]\n",
    "\n",
    "# Sample variance (unbiased estimator)\n",
    "def unbiased_variance(data):\n",
    "  n = len(data)\n",
    "  mean = sum(data) / n\n",
    "  return sum((x - mean)**2 for x in data) / (n - 1) ## Formula for sample Variance\n",
    "\n",
    "variance_a = unbiased_variance(group_a)\n",
    "variance_b = unbiased_variance(group_b)\n",
    "\n",
    "print(f\"Sample variance (unbiased):\")\n",
    "print(f\"\\tGroup A: {variance_a:.4f}\")\n",
    "print(f\"\\tGroup B: {variance_b:.4f}\")"
   ]
  },
  {
   "cell_type": "markdown",
   "id": "a5e1ca63-17dd-48a5-8557-8e7d5f3fe1d1",
   "metadata": {},
   "source": [
    "3. Degrees of Freedom:\n",
    "   - Degrees of freedom for numerator (df1) = sample size for Group A - 1 = 6 - 1 = 5\n",
    "   - Degrees of freedom for denominator (df2) = sample size for Group B - 1 = 6 - 1 = 5\n",
    "   \n",
    "4. F-Statistic Calculation:\n",
    "   - The F-statistic is the ratio of the larger sample variance to the smaller sample variance:        \n",
    "   - F = max(variance_a, variance_b) / min(variance_a, variance_b)        \n",
    "   - F = 19.7667/10.1667 = 1.944\n",
    "5. Critical F-Value Calculation:\n",
    "   - We need the critical F-value for a two-tailed test with α = 0.01, df1 = 5, and df2 = 5. You can use statistical tables  \n",
    "   - So, the Critical F-value =14.939\n",
    "6. Decision Rule:\n",
    "   - If F > critical F-value, reject H0 (variances are different).\n",
    "   - If F <= critical F-value, fail to reject H0 (variances might be equal).\n",
    "\n",
    "7. Conclusion:\n",
    "  - By analyzing these steps and interpreting the results based on the critical F-value, we would fail to reject the null hypothesis (H0). (equal variances) at the 1% significance level. This means that there is not enough  evi"
   ]
  },
  {
   "cell_type": "code",
   "execution_count": null,
   "id": "021fcbcf-ddf3-490c-ab83-acd99165941b",
   "metadata": {},
   "outputs": [],
   "source": []
  },
  {
   "cell_type": "code",
   "execution_count": null,
   "id": "32d2996d-ba95-45a3-969b-861d71bcadeb",
   "metadata": {},
   "outputs": [],
   "source": []
  },
  {
   "cell_type": "code",
   "execution_count": 35,
   "id": "b72307b8-2e87-4968-85c2-5beadc310512",
   "metadata": {},
   "outputs": [
    {
     "name": "stdout",
     "output_type": "stream",
     "text": [
      "Fail to reject the null hypothesis: Variances are not significantly different.\n"
     ]
    },
    {
     "data": {
      "text/plain": [
       "14.939605459912224"
      ]
     },
     "execution_count": 35,
     "metadata": {},
     "output_type": "execute_result"
    }
   ],
   "source": [
    "import numpy as np\n",
    "from scipy.stats import f\n",
    "\n",
    "# Data for Group A and Group B\n",
    "group_a_scores = np.array([80, 85, 90, 92, 87, 83])\n",
    "group_b_scores = np.array([75, 78, 82, 79, 81, 84])\n",
    "\n",
    "# Calculate variances\n",
    "var_a = np.var(group_a_scores, ddof=1)  # Use ddof=1 for unbiased estimate\n",
    "var_b = np.var(group_b_scores, ddof=1)\n",
    "\n",
    "# Calculate degrees of freedom\n",
    "df1 = len(group_a_scores) - 1\n",
    "df2 = len(group_b_scores) - 1\n",
    "\n",
    "# Calculate F-value\n",
    "f_value = var_a / var_b if var_a > var_b else var_b / var_a\n",
    "\n",
    "# Calculate critical F-value for a significance level of 0.01\n",
    "critical_f_value = f.ppf(0.995, df1, df2)  # Two-tailed test, so using 0.995\n",
    "\n",
    "# Determine if the null hypothesis should be rejected\n",
    "if f_value > critical_f_value:\n",
    "    print(\"Reject the null hypothesis: Variances are significantly different.\")\n",
    "else:\n",
    "    print(\"Fail to reject the null hypothesis: Variances are not significantly different.\")\n",
    "critical_f_value"
   ]
  },
  {
   "cell_type": "code",
   "execution_count": null,
   "id": "349a10b9-fc10-4783-8dbf-5c5c093374c6",
   "metadata": {},
   "outputs": [],
   "source": []
  }
 ],
 "metadata": {
  "kernelspec": {
   "display_name": "Python 3 (ipykernel)",
   "language": "python",
   "name": "python3"
  },
  "language_info": {
   "codemirror_mode": {
    "name": "ipython",
    "version": 3
   },
   "file_extension": ".py",
   "mimetype": "text/x-python",
   "name": "python",
   "nbconvert_exporter": "python",
   "pygments_lexer": "ipython3",
   "version": "3.10.8"
  }
 },
 "nbformat": 4,
 "nbformat_minor": 5
}
