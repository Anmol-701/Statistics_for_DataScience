{
 "cells": [
  {
   "cell_type": "markdown",
   "id": "c5489664-bfa0-4f39-b10c-7eb4df14d0a7",
   "metadata": {},
   "source": [
    "### Problem_1: What is Statistics?"
   ]
  },
  {
   "cell_type": "markdown",
   "id": "ea9efd2b-5be3-43fc-bbd1-c9e8b5f81c87",
   "metadata": {},
   "source": [
    "  - Statistics is essentially the science of data. It involves collecting, organizing, analyzing, interpreting, and presenting data to make sense of the world around us. \n",
    "  - It's used in nearly every field to uncover patterns, trends, and insights."
   ]
  },
  {
   "cell_type": "markdown",
   "id": "363dc177-f7ef-47fd-9e60-2e38f9c08a7f",
   "metadata": {},
   "source": [
    "### Problem_2: Define the different types of statistics and give an example of when each type might be used."
   ]
  },
  {
   "cell_type": "markdown",
   "id": "7a43e273-e535-4409-b208-327d385fb86d",
   "metadata": {
    "tags": []
   },
   "source": [
    "#### There are two main types of Statistics:\n",
    "\n",
    "### Descriptive Statistics\n",
    "\n",
    "  - What it does: Summarizes and describes data sets. It helps you understand the basic characteristics of your data.\n",
    "  - How it works: Uses measures like mean (average), median, mode, standard deviation, and frequency distributions. It also uses charts and graphs like histograms, pie charts, and scatter plots to visually represent the data.\n",
    "  - Example: Imagine you're a teacher and you want to see how your students performed on a recent exam. Descriptive statistics would help you calculate the average score, the highest and lowest scores, and how many students scored within a certain range.\n",
    "  \n",
    "### Inferential Statistics\n",
    "\n",
    "  - What it does: Draws conclusions about a larger population (population) based on a smaller sample of data. It allows you to make generalizations and predictions.\n",
    "  - How it works: Uses techniques like hypothesis testing, correlation analysis, and regression analysis to assess relationships between variables and test hypotheses about the population.\n",
    "  - Example: A company might survey a small group of customers about a new product to infer how the entire customer base might respond if the product were launched."
   ]
  },
  {
   "cell_type": "markdown",
   "id": "d5f01220-4bfa-484f-8d69-1a9d00e5eab8",
   "metadata": {},
   "source": [
    "### Problem_3: What are the different types of data and how do they differ from each other? Provide an example of each type of data."
   ]
  },
  {
   "cell_type": "markdown",
   "id": "02dd0490-b604-4d6e-b060-bfee4fca897e",
   "metadata": {},
   "source": [
    "#### There are two main types of data and it is further broken down into more specific categories.\n",
    "1. Quantitative Data: Represents numbers and measurements. It tell you 'how much' or 'how many'. EG: Number of website visitors, Temperature in degree. It has two types:\n",
    "    - Discrete: It is in whole number. EG: \"Number of Back accounts\", \"Number of children in family\".\n",
    "    - Continuous: It can take any value within specific range. EG: \"Weight of person\",\"Height of person\",\"Temperature\",\"Speed of car\".\n",
    "2. Qualitative Data: Describes qualities or characteristics and is non-numerical.It tells you \"what\" something is, but not \"how much\" or \"how many.\" It is also divided into two types:\n",
    "    - Nominal Data: In this type of data order doesn't matter. EG:\"Gender\",\"Blood Group\",\"Color of Eye\".\n",
    "    - Ordinal Data: In this type of data, data have a specific order but the difference between them can't be precisely measured.EG:\"Customer rating App(Excellent, Good, Fair, Poor)\""
   ]
  },
  {
   "cell_type": "markdown",
   "id": "803a408d-5d51-4840-bb4d-836a194e832d",
   "metadata": {},
   "source": [
    "### Problem_4:Categorise the following datasets with respect to quantitative and qualitative data types:\n",
    "1. Grading in exam: A+, A, B+, B, C+, C, D, E\n",
    "2. Colour of mangoes: yellow, green, orange, red\n",
    "3. Height data of a class: [178.9, 179, 179.5, 176, 177.2, 178.3, 175.8,...]\n",
    "4. Number of mangoes exported by a farm: [500, 600, 478, 672, ...]"
   ]
  },
  {
   "cell_type": "markdown",
   "id": "a18b001a-c868-49c1-ab14-d0d82c561374",
   "metadata": {},
   "source": [
    "#### ANSWER:\n",
    "1. Grading in Exam: It is Ordinal Type of dataset which is qualitative.\n",
    "2. Colour of mangoes (Yellow, green, orange, red): It is Nominal type of Dataset which is qualitative.\n",
    "3. Height data of a Class: It is Continuous type of dataset which is type of quantitative data.\n",
    "4. Number of Mangoes exported by a farm: It is Discrete type of data which is type of quantitative data."
   ]
  },
  {
   "cell_type": "markdown",
   "id": "8464616e-faa3-4e9a-b2a9-a16befaa4de4",
   "metadata": {},
   "source": [
    "### Problem_5: Explain the concept of levels of measurement and give an example of a variable for each level."
   ]
  },
  {
   "cell_type": "markdown",
   "id": "b1891d0e-c842-4762-b005-2a0be52046c1",
   "metadata": {},
   "source": [
    "  - In statistics, levels of measurement (also called scales of measurement) categorize how data is measured and what kind of information you can glean from it.  There are four main level of measurement.\n",
    "1. Nominal Scale Data:It is qualitative/categorical variable.EG: 'Gender','Color of Eyes','Labels'.\n",
    "2. Ordinal Scale Data: In this type of data Ranking and order matters.Difference can't be measured.EG: Qualification(phd,BE,Master,B.com,Bsc.etc)\n",
    "3. Interval Scale Data: In this type of data Rank and order matters.\n",
    "      - Difference can be measured(Excluding ratio).\n",
    "      - Doesn't have '0' starting value.\n",
    "      - EG: Temperature.\n",
    "4. Ratio Scale Data: In this type of Data Order and Rank matters\n",
    "      - Differences and ratio are measurable.\n",
    "      - It doesn't have a '0' starting."
   ]
  },
  {
   "cell_type": "markdown",
   "id": "21ac64ba-d333-4712-9d04-f869336e6340",
   "metadata": {},
   "source": [
    "### Problem_6: Why is it important to understand the level of measurement when analyzing data? Provide an example to illustrate your answer."
   ]
  },
  {
   "cell_type": "markdown",
   "id": "80118f9f-fa7e-449b-902f-336f984e56c0",
   "metadata": {},
   "source": [
    "#### Level of measurement is very important when analyzing the data. Here's an example to illustrate this:\n",
    "\n",
    "  - Imagine you're a researcher studying customer satisfaction with a new fast-food restaurant. You survey customers and ask them to rate their satisfaction on a scale of 1 (very dissatisfied) to 5 (very satisfied). This data is ordinal because you have a clear order (1 being the least satisfied and 5 being the most satisfied).\n",
    "\n",
    "  - Now, let's say you misunderstand the data as interval data (having equal intervals between each number). You might be tempted to calculate the average satisfaction score (mean) and say, \"The average customer rated a 3.2, so they are slightly satisfied.\"\n",
    "\n",
    "  - However, this interpretation is misleading.  In ordinal data, the difference between a 3 and a 4 on the scale might not represent the same difference in satisfaction as the gap between a 1 and a 2.  The customer might perceive a much bigger jump in satisfaction between \"dissatisfied\" and \"neutral\" than between \"neutral\" and \"satisfied.\"\n",
    "\n",
    "  - By correctly identifying the data as ordinal, you'd know to use different statistical tests that focus on order and ranking, rather than assuming equal intervals between points. You could look at the median satisfaction score (the middle value) or analyze the distribution of responses across the scale (how many people picked 1, 2, 3, etc.). This would give you a more accurate picture of customer sentiment."
   ]
  },
  {
   "cell_type": "markdown",
   "id": "87b9ce4a-be79-4d9a-9e40-bf673d52ff7d",
   "metadata": {},
   "source": [
    "### Problem_7: How nominal data type is different from ordinal data type."
   ]
  },
  {
   "cell_type": "markdown",
   "id": "8f7561ea-4602-43ae-ae31-f1fbb5f45297",
   "metadata": {},
   "source": [
    "  - In Nominal Data order and Rank doesn't matter whereas in ordinal data Order and Rank matters\n",
    "  - Example of Nominal data is 'Gender','Color','Labels'.etc\n",
    "  - Example of Ordinal data is 'Qualification' which we definitly can rank it."
   ]
  },
  {
   "cell_type": "markdown",
   "id": "b51a7bbc-1e1a-4db8-bac7-2b910b5c9dff",
   "metadata": {},
   "source": [
    "### Problem_8: Which type of plot can be used to display data in terms of range?"
   ]
  },
  {
   "cell_type": "markdown",
   "id": "c6b98600-f5d9-4382-afd7-23980bb49a40",
   "metadata": {},
   "source": [
    "  -  Box plot can be used to display data in terms of range."
   ]
  },
  {
   "cell_type": "markdown",
   "id": "edd94a3d-54a5-4d7b-8dc1-36e69b2da8f5",
   "metadata": {},
   "source": [
    "### Problem_9: Describe the difference between descriptive and inferential statistics. Give an example of each type of statistics and explain how they are used."
   ]
  },
  {
   "cell_type": "markdown",
   "id": "7f20d98a-2ab9-464b-855d-c7ef479e94c9",
   "metadata": {},
   "source": [
    "#### Descriptive Statistics\n",
    "\n",
    "  - Function: Summarizes and describes the characteristics of a dataset. It helps you understand the basic properties of your data.\n",
    "  - Focus: Focuses on the data you have (either a sample or the entire population) and doesn't make generalizations beyond that specific data set.\n",
    "  - Techniques: Uses measures like mean (average), median, mode, standard deviation, and frequency distributions. It also utilizes charts and graphs like histograms, pie charts, and scatter plots to visually represent the data.     \n",
    "  \n",
    "Example: Imagine you're a teacher and you want to understand how your class performed on a recent exam. Descriptive statistics would help you calculate:\n",
    "\n",
    "  - The average score (mean) to get a general sense of how the class did.\n",
    "  - The median score to see the \"middle\" score if the scores were arranged from lowest to highest.\n",
    "  - The highest and lowest scores (range) to identify the extremes in performance.\n",
    "  - A histogram to visualize the distribution of scores (how many students scored within a certain range).\n",
    "\n",
    "#### Inferential Statistics\n",
    "\n",
    "  - Function: Draws conclusions about a larger population (population) based on a smaller sample of data. It allows you to make generalizations and predictions about the population as a whole.\n",
    "  - Focus: Extends its analysis beyond the data at hand to infer what might be true for a larger group.\n",
    "  - Techniques: Uses techniques like hypothesis testing, correlation analysis, and regression analysis to assess relationships between variables and test hypotheses about the population. \n",
    "  \n",
    "Example:  Imagine a company wants to know if a new advertising campaign will be effective nationwide. They can't survey everyone in the country, so they conduct a survey on a smaller, representative sample of potential customers. Inferential statistics would help them analyze the sample data to:\n",
    "\n",
    "  - Test the hypothesis that the campaign will increase brand awareness.\n",
    "  - Look for correlations between exposure to the ad and purchase intent.\n",
    "  - Predict the potential impact of the campaign on the national market based on the sample results."
   ]
  },
  {
   "cell_type": "markdown",
   "id": "7019539f-f889-4b9e-95a9-054c896d78fe",
   "metadata": {},
   "source": [
    "### Problem_10:What are some common measures of central tendency and variability used in statistics? Explain how each measure can be used to describe a dataset."
   ]
  },
  {
   "cell_type": "markdown",
   "id": "62a67148-3766-4a77-92bb-88718bff8fb7",
   "metadata": {},
   "source": [
    "1. Central tendency:       \n",
    "measures tell you where the center of the data lies, essentially representing the most typical value. Here are three common ways to pinpoint this center:        \n",
    "\n",
    "  - Mean: This is the familiar \"average,\" calculated by summing all the values in a dataset and dividing by the number of values. The mean works well for symmetrical data with no extreme outliers.\n",
    "\n",
    "  - Median: The median is the \"middle\" value when the data is arranged in numerical order. If you have an even number of values, the median is the average of the two middle ones. The median is less swayed by outliers compared to the mean, making it a good choice for skewed data sets.\n",
    "\n",
    "  - Mode: The mode is simply the most frequent value in a dataset. It tells you which value appears most often. The mode can be useful for identifying the most common category in nominal data (like shirt colors) or the peak in a distribution. However, a dataset can have multiple modes or none at all, so it's often used alongside other measures.\n",
    "\n",
    "2. Variability measures,:      \n",
    "on the other hand, describe how spread out the data points are from the center. They tell you how much the values deviate from the central tendency measure. Here are two common ways to quantify this spread:\n",
    "\n",
    "  - Standard Deviation (SD): This is the most widely used measure of variability. It reflects the average distance of each data point from the mean. A lower standard deviation indicates the data points are clustered closer to the mean, while a higher SD suggests more spread-out data.\n",
    "\n",
    "  - Range: The range is a simpler measure of variability. It's calculated by subtracting the minimum value from the maximum value in the data set. The range gives you a basic idea of how far apart the extreme values are, but it doesn't consider how the rest of the data is distributed."
   ]
  }
 ],
 "metadata": {
  "kernelspec": {
   "display_name": "Python 3 (ipykernel)",
   "language": "python",
   "name": "python3"
  },
  "language_info": {
   "codemirror_mode": {
    "name": "ipython",
    "version": 3
   },
   "file_extension": ".py",
   "mimetype": "text/x-python",
   "name": "python",
   "nbconvert_exporter": "python",
   "pygments_lexer": "ipython3",
   "version": "3.10.8"
  }
 },
 "nbformat": 4,
 "nbformat_minor": 5
}
