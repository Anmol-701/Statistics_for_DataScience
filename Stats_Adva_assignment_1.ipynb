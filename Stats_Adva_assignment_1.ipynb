{
 "cells": [
  {
   "cell_type": "markdown",
   "id": "e2adaa1f-b06b-4d8a-bdae-87c45b1d8066",
   "metadata": {},
   "source": [
    "### Problem_1: What is the Probability density function?"
   ]
  },
  {
   "cell_type": "markdown",
   "id": "c5bb9853-340c-4454-b488-3ddcf878b95d",
   "metadata": {},
   "source": [
    "  - It is mathematical function used for continuous random variable.\n",
    "  - Instead of giving the exact probability of a specific value, it tells you how probable it is for the variable to be somewhere within a certain range of values. Think of it like a spectrum of likelihoods. Areas where the curve is higher indicate a higher chance of the variable landing around that value.\n",
    "  - Imagine a bell curve: the higher the curve at a certain point, the more probable it is for the variable to be around that value. The total area under the curve is always 1."
   ]
  },
  {
   "cell_type": "markdown",
   "id": "1c4773fc-3003-480e-be7e-2c88878af89e",
   "metadata": {},
   "source": [
    "### Problem_2:What are the types of Probability distribution?"
   ]
  },
  {
   "cell_type": "markdown",
   "id": "23eba5a0-1e63-49ff-8f4f-cbba2de7ce9e",
   "metadata": {},
   "source": [
    "- Probability distributions come in two main flavors:\n",
    "\n",
    "  1. Discrete: Describes random variables with separate, countable values. Think rolling a die (1, 2, 3, etc.). Common ones include binomial (number of successes in trials) and Poisson (rare events in a fixed interval).\n",
    "\n",
    "  2. Continuous: Describes random variables with any value within a range. Imagine measuring height. Common ones include normal (bell curve) and exponential (time between events)."
   ]
  },
  {
   "cell_type": "markdown",
   "id": "f8d9fa6c-88d0-4914-9d74-41bc9e32a1ea",
   "metadata": {},
   "source": [
    "### Problem_3: Write a Python function to calculate the probability density function of a normal distribution with given mean and standard deviation at a given point."
   ]
  },
  {
   "cell_type": "code",
   "execution_count": 1,
   "id": "49e3ec07-33f4-4c5f-ab12-dc75fe2445f2",
   "metadata": {},
   "outputs": [
    {
     "name": "stdout",
     "output_type": "stream",
     "text": [
      "The probability density of the normal distribution at 60 with mean 50 and standard deviation 10 is: 0.024197072451914336\n"
     ]
    }
   ],
   "source": [
    "from scipy.stats import norm\n",
    "def normal_pdf(x, mean,std):\n",
    "      return norm.pdf(x, loc=mean, scale=std)\n",
    "\n",
    "# Example usage\n",
    "mean = 50\n",
    "std = 10\n",
    "x = 60\n",
    "probability_density = normal_pdf(x, mean, std)\n",
    "\n",
    "print(f\"The probability density of the normal distribution at {x} with mean {mean} and standard deviation {std} is: {probability_density}\")"
   ]
  },
  {
   "cell_type": "markdown",
   "id": "af0798ca-ba40-481e-89b8-30cde89b174a",
   "metadata": {},
   "source": [
    "### Problem_4: What are the properties of Binomial distribution? Give two examples of events where binomial distribution can be applied."
   ]
  },
  {
   "cell_type": "markdown",
   "id": "757e1022-4f88-41e8-b088-386ae2a2d29b",
   "metadata": {},
   "source": [
    "- The binomial distribution has several key properties:\n",
    "\n",
    "  1. Two Outcomes: There are only two possible outcomes for each trial, often called success and failure (or yes/no, heads/tails, etc.).\n",
    "  2. Fixed Trials: There's a fixed number of independent trials (n) conducted.\n",
    "  3. Constant Probability: The probability of success (p) remains constant for each trial. It doesn't change based on previous outcomes. \n",
    "  4. Independent Trials: The outcome of one trial doesn't affect the outcome of another (e.g., flipping a coin 10 times, each flip is independent).\n",
    "\n",
    "- Examples of Binomial Distribution Applications:\n",
    "\n",
    "  - Coin Flips: Flipping a fair coin 10 times. Here, success is heads and failure is tails. You can calculate the probability of getting exactly 3 heads in 10 flips using the binomial distribution.\n",
    "\n",
    "  - Product Testing: A company tests a new drug on 20 patients. Success is defined as a patient showing improvement. You can use the binomial distribution to find the probability of having 12 patients improve after taking the drug."
   ]
  },
  {
   "cell_type": "markdown",
   "id": "925a4757-ce1a-40ec-8dd7-cfaa57400164",
   "metadata": {},
   "source": [
    "### Problem_5: Generate a random sample of size 1000 from a binomial distribution with probability of success 0.4 and plot a histogram of the results using matplotlib."
   ]
  },
  {
   "cell_type": "code",
   "execution_count": 4,
   "id": "018a72ca-e787-4a01-ac76-92c19ce78e5e",
   "metadata": {},
   "outputs": [
    {
     "data": {
      "image/png": "[encoded data removed]",
      "text/plain": [
       "<Figure size 640x480 with 1 Axes>"
      ]
     },
     "metadata": {},
     "output_type": "display_data"
    }
   ],
   "source": [
    "import matplotlib.pyplot as plt\n",
    "from scipy.stats import binom\n",
    "# define parameters\n",
    "n=1000 # Number of Trials\n",
    "p=0.4 # Probability of success\n",
    "\n",
    "# Generate random sample\n",
    "samples = binom.rvs(n, p, size=1000)\n",
    "\n",
    "# Create Histogram\n",
    "plt.hist(samples, bins=20, edgecolor='black')\n",
    "plt.xlabel('Number of Successes')\n",
    "plt.ylabel('Frequency')\n",
    "plt.title('Histogram of binomial distribution')\n",
    "plt.grid(True)\n",
    "plt.show()"
   ]
  },
  {
   "cell_type": "markdown",
   "id": "1b1b1937-dc04-4b82-8053-58ea142cd226",
   "metadata": {},
   "source": [
    "### Problem_6: Write a Python function to calculate the cumulative distribution function of a Poisson distribution with given mean at a given point."
   ]
  },
  {
   "cell_type": "code",
   "execution_count": 5,
   "id": "37edc185-2417-4ffe-b9ab-46bf54721573",
   "metadata": {},
   "outputs": [
    {
     "name": "stdout",
     "output_type": "stream",
     "text": [
      "The probability of getting a value less than or equal to 3 in a Poisson distribution with mean 5 is: 0.2650259152973616\n"
     ]
    }
   ],
   "source": [
    "from scipy.stats import poisson\n",
    "\n",
    "def poisson_cdf(x, mean):\n",
    "  if x < 0:\n",
    "    raise ValueError(\"x must be non-negative for the Poisson distribution\")\n",
    "  return poisson.cdf(x, mu=mean)\n",
    "\n",
    "# Example usage\n",
    "mean = 5\n",
    "x = 3\n",
    "probability = poisson_cdf(x, mean)\n",
    "\n",
    "print(f\"The probability of getting a value less than or equal to {x} in a Poisson distribution with mean {mean} is: {probability}\")"
   ]
  },
  {
   "cell_type": "markdown",
   "id": "43f6e633-ca8f-4c7f-a6c7-b8ac33cbdba4",
   "metadata": {},
   "source": [
    "### Problem_7: How Binomial distribution different from Poisson distribution?"
   ]
  },
  {
   "cell_type": "markdown",
   "id": "63b33bcd-f41e-4f83-ac2a-72c1271cb379",
   "metadata": {},
   "source": [
    "- Binomial:\n",
    "  - Has a fixed number of trials (n) conducted.\n",
    "  - The probability of success (p) remains constant for each trial (independent of previous outcomes).\n",
    "- Poisson:\n",
    "  - Doesn't have a fixed number of events. The mean represents the average rate of occurrence within the interval. The probability of success is not explicitly defined for each event."
   ]
  },
  {
   "cell_type": "markdown",
   "id": "f6288e19-e26a-4ff0-8742-2439966aced4",
   "metadata": {},
   "source": [
    "### Problem_8: Generate a random sample of size 1000 from a Poisson distribution with mean 5 and calculate the sample mean and variance."
   ]
  },
  {
   "cell_type": "code",
   "execution_count": 1,
   "id": "3a656ff1-f20d-49ba-a367-cd278094207c",
   "metadata": {},
   "outputs": [
    {
     "name": "stdout",
     "output_type": "stream",
     "text": [
      "Sample Mean:4.95\n",
      "Sample variance:4.92\n"
     ]
    }
   ],
   "source": [
    "import numpy as np\n",
    "\n",
    "# set the mean of the poisson distribution\n",
    "mean=5\n",
    "\n",
    "#Generate the Random sample of size 1000\n",
    "samples=np.random.poisson(mean, size=1000)\n",
    "\n",
    "# Calculate the sample mean and variance\n",
    "sample_mean=np.mean(samples)\n",
    "sample_var=np.var(samples)\n",
    "\n",
    "# print the Results\n",
    "print(f\"Sample Mean:{sample_mean:.2f}\")\n",
    "print(f\"Sample variance:{sample_var:.2f}\")\n"
   ]
  },
  {
   "cell_type": "markdown",
   "id": "601e127f-087a-4a4e-9ca4-4f0b5eec0a30",
   "metadata": {},
   "source": [
    "### Problem_9: How mean and variance are related in Binomial distribution and Poisson distribution?"
   ]
  },
  {
   "cell_type": "markdown",
   "id": "616b6bd7-3999-416a-a491-e47d8e5600bc",
   "metadata": {},
   "source": [
    "1. Binomial Distribution:\n",
    "   - Mean (μ): n * p, where n is the number of trials and p is the probability of success in each trial.\n",
    "   - Variance (σ²): n * p * (1 - p)\n",
    "   \n",
    "2. Poisson Distribution:\n",
    "   - Mean (λ): Represents the average rate of occurrence of events within the fixed interval.\n",
    "   - Variance (σ²): λ (equal to the mean)"
   ]
  },
  {
   "cell_type": "markdown",
   "id": "e6219915-e006-4dff-b8d1-aa30fc85185f",
   "metadata": {},
   "source": [
    "### Problem_10: In normal distribution with respect to mean position, where does the least frequent data appear?"
   ]
  },
  {
   "cell_type": "markdown",
   "id": "affe29e5-93fb-4207-b9d7-77cdd6286e12",
   "metadata": {},
   "source": [
    "  - In a normal distribution, the least frequent data appears furthest away from the mean, at the tails of the bell-shaped curve. The normal distribution is symmetrical, so the data trails off in both directions (left and right) from the center peak where the mean is located."
   ]
  }
 ],
 "metadata": {
  "kernelspec": {
   "display_name": "Python 3 (ipykernel)",
   "language": "python",
   "name": "python3"
  },
  "language_info": {
   "codemirror_mode": {
    "name": "ipython",
    "version": 3
   },
   "file_extension": ".py",
   "mimetype": "text/x-python",
   "name": "python",
   "nbconvert_exporter": "python",
   "pygments_lexer": "ipython3",
   "version": "3.10.8"
  }
 },
 "nbformat": 4,
 "nbformat_minor": 5
}
