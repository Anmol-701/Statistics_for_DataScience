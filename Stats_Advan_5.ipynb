{
 "cells": [
  {
   "cell_type": "markdown",
   "id": "2fe9b1e0-3264-4640-a40b-f50834bbada6",
   "metadata": {},
   "source": [
    "### Problem_1: Calculate the 95% confidence interval for a sample of data with a mean of 50 and a standard deviation of 5 using Python. Interpret the results."
   ]
  },
  {
   "cell_type": "code",
   "execution_count": 1,
   "id": "1e39c890-0e05-4ffa-a3ef-6f48b2ed6731",
   "metadata": {},
   "outputs": [
    {
     "name": "stdout",
     "output_type": "stream",
     "text": [
      "95% confidence interval: (40.20, 59.80)\n",
      "We can be 95% confident that the true population mean falls within this interval.\n",
      "In other words, there is a 95% chance that the average value in the entire population is between 40.200180077299734 and 59.799819922700266\n"
     ]
    }
   ],
   "source": [
    "import scipy.stats as stats\n",
    "\n",
    "# Sample data (not required for calculation, but for clarity)\n",
    "# We can comment this out if not needed\n",
    "# sample_data = [value for value in range(45, 55)]  # Example data with mean 50\n",
    "\n",
    "# Sample mean and standard deviation\n",
    "sample_mean = 50\n",
    "sample_std = 5\n",
    "\n",
    "# Confidence level\n",
    "confidence_level = 0.95\n",
    "\n",
    "# Calculate the z-score for the confidence level\n",
    "z_critical = stats.norm.ppf(1 - (1 - confidence_level) / 2)\n",
    "\n",
    "# Calculate the margin of error\n",
    "margin_of_error = z_critical * sample_std\n",
    "\n",
    "# Calculate the confidence interval\n",
    "lower_bound = sample_mean - margin_of_error\n",
    "upper_bound = sample_mean + margin_of_error\n",
    "\n",
    "# Print the confidence interval\n",
    "print(f\"95% confidence interval: ({lower_bound:.2f}, {upper_bound:.2f})\")\n",
    "\n",
    "# Interpretation\n",
    "print(\"We can be 95% confident that the true population mean falls within this interval.\")\n",
    "print(\"In other words, there is a 95% chance that the average value in the entire population is between\", lower_bound, \"and\", upper_bound)\n"
   ]
  },
  {
   "cell_type": "markdown",
   "id": "4f8a7154-cd47-4e13-8f0d-cc0aabd6730d",
   "metadata": {},
   "source": [
    "### Problem_2:Conduct a chi-square goodness of fit test to determine if the distribution of colors of M&Ms in a bag matches the expected distribution of 20% blue, 20% orange, 20% green, 10% yellow, 10% red, and 20% brown. Use Python to perform the test with a significance level of 0.05."
   ]
  },
  {
   "cell_type": "code",
   "execution_count": 4,
   "id": "943bb628-159b-46bc-a345-224b9d3d5fb4",
   "metadata": {},
   "outputs": [
    {
     "name": "stdout",
     "output_type": "stream",
     "text": [
      "Chi-square statistic: 0.00\n",
      "p-value: 1.0000\n",
      "Fail to reject the null hypothesis. The observed color distribution seems to match the expected distribution.\n"
     ]
    }
   ],
   "source": [
    "from scipy.stats import chi2_contingency\n",
    "\n",
    "# Expected distribution (replace with your actual counts if known)\n",
    "expected_distribution = [20, 20, 20, 10, 10, 20]  # Percentages converted to counts (assuming a sample size of 100)\n",
    "\n",
    "# Observed counts (replace these with your actual counts)\n",
    "observed_counts = [18, 23, 17, 12, 8, 22]  # Example counts\n",
    "\n",
    "# Chi-square test and p-value\n",
    "chi2, pval, deg, expected = chi2_contingency(observed_counts, expected_distribution)\n",
    "\n",
    "# Print results\n",
    "print(f\"Chi-square statistic: {chi2:.2f}\")\n",
    "print(f\"p-value: {pval:.4f}\")\n",
    "\n",
    "# Interpretation\n",
    "if pval > 0.05:\n",
    "    print(\"Fail to reject the null hypothesis. The observed color distribution seems to match the expected distribution.\")\n",
    "else:\n",
    "    print(\"Reject the null hypothesis. The observed color distribution suggests a difference from the expected distribution.\")"
   ]
  },
  {
   "cell_type": "markdown",
   "id": "8c47b395-8426-4641-a859-1fbbd9fe65ad",
   "metadata": {
    "tags": []
   },
   "source": [
    "### Problem_3: Use Python to calculate the chi-square statistic and p-value for a contingency table with the following Data:\n",
    "                        \n",
    "                Group-A        Group-B                               \n",
    "    Outcome:      20             15                \n",
    "    Outcome:      10             25               \n",
    "    Outcome:      15             20                  \n",
    "Interpret the results of the test."
   ]
  },
  {
   "cell_type": "code",
   "execution_count": 5,
   "id": "8cc0fb84-54bd-4767-948e-d84eb4741105",
   "metadata": {},
   "outputs": [
    {
     "name": "stdout",
     "output_type": "stream",
     "text": [
      "Chi-Square Statistics:  5.83\n",
      "P-Value:  0.0541\n",
      "Fail to reject the null hypothesis. There is no significant difference in outcome distribution between Group-A and Group-B.\n"
     ]
    }
   ],
   "source": [
    "from scipy.stats import chi2_contingency\n",
    "\n",
    "# contingency table data\n",
    "data= [[20, 15], [10, 25], [15, 20]]\n",
    "\n",
    "# chi-Square test and p-value\n",
    "chi2,pval,deg,expected=chi2_contingency(data)\n",
    "\n",
    "#Print the results\n",
    "print(f\"Chi-Square Statistics: {chi2: .2f}\")\n",
    "print(f\"P-Value: {pval: .4f}\")\n",
    "\n",
    "# Interpretation\n",
    "if pval > 0.05:\n",
    "    print(\"Fail to reject the null hypothesis. There is no significant difference in outcome distribution between Group-A and Group-B.\")\n",
    "else:\n",
    "    print(\"Reject the null hypothesis. The outcome distribution seems to be different between Group-A and Group-B.\")"
   ]
  },
  {
   "cell_type": "markdown",
   "id": "995cda34-0cf6-4b8b-b4ff-6f84eeaa28d4",
   "metadata": {},
   "source": [
    "### Problem_4: A study of the prevalence of smoking in a population of 500 individuals found that 60 individuals smoked. Use Python to calculate the 95% confidence interval for the true proportion of individuals in the population who smoke."
   ]
  },
  {
   "cell_type": "code",
   "execution_count": 7,
   "id": "2035a29e-3379-4c6b-802e-01c2588b7554",
   "metadata": {},
   "outputs": [
    {
     "name": "stdout",
     "output_type": "stream",
     "text": [
      "95% confidence interval: (0.0915, 0.1485)\n",
      "We can be 95% confident that the true proportion of smokers in the population falls within this interval.\n"
     ]
    }
   ],
   "source": [
    "import scipy.stats as stats\n",
    "import numpy as np\n",
    "# Sample size\n",
    "n = 500\n",
    "\n",
    "# Number of smokers\n",
    "smokers = 60\n",
    "\n",
    "# Sample proportion\n",
    "p_hat = smokers / n  # Proportion of smokers in the sample\n",
    "\n",
    "# Confidence level\n",
    "confidence_level = 0.95\n",
    "\n",
    "# Calculate critical z-score\n",
    "z_critical = stats.norm.ppf(1 - (1 - confidence_level) / 2)\n",
    "\n",
    "# Standard error\n",
    "se = np.sqrt(p_hat * (1 - p_hat) / n)  # Standard error of the proportion\n",
    "\n",
    "# Confidence interval bounds\n",
    "lower_bound = p_hat - z_critical * se\n",
    "upper_bound = p_hat + z_critical * se\n",
    "\n",
    "# Print the confidence interval\n",
    "print(f\"95% confidence interval: ({lower_bound:.4f}, {upper_bound:.4f})\")\n",
    "\n",
    "# Interpretation\n",
    "print(\"We can be 95% confident that the true proportion of smokers in the population falls within this interval.\")"
   ]
  },
  {
   "cell_type": "markdown",
   "id": "5b2a0268-b112-4b90-9ff4-ee5a8bffa1ca",
   "metadata": {},
   "source": [
    "### Problem_5: Calculate the 90% confidence interval for a sample of data with a mean of 75 and a standard deviation of 12 using Python. Interpret the results."
   ]
  },
  {
   "cell_type": "code",
   "execution_count": 8,
   "id": "4d50e29f-6a2f-40bc-b771-ca17e6b4ff04",
   "metadata": {},
   "outputs": [
    {
     "name": "stdout",
     "output_type": "stream",
     "text": [
      "90% confidence interval: (55.26, 94.74)\n",
      "We can be 90% confident that the true population mean falls within this interval.\n",
      "In other words, there is a 90% chance that the average value in the entire population is between 55.261756476582335 and 94.73824352341767\n"
     ]
    }
   ],
   "source": [
    "import scipy.stats as stats\n",
    "\n",
    "# Sample mean and standard deviation\n",
    "sample_mean = 75\n",
    "sample_std = 12\n",
    "\n",
    "# Confidence level\n",
    "confidence_level = 0.90\n",
    "\n",
    "# Calculate the z-score for the confidence level\n",
    "z_critical = stats.norm.ppf(1 - (1 - confidence_level) / 2)\n",
    "\n",
    "# Calculate the margin of error\n",
    "margin_of_error = z_critical * sample_std\n",
    "\n",
    "# Calculate the confidence interval\n",
    "lower_bound = sample_mean - margin_of_error\n",
    "upper_bound = sample_mean + margin_of_error\n",
    "\n",
    "# Print the confidence interval\n",
    "print(f\"90% confidence interval: ({lower_bound:.2f}, {upper_bound:.2f})\")\n",
    "\n",
    "# Interpretation\n",
    "print(\"We can be 90% confident that the true population mean falls within this interval.\")\n",
    "print(\"In other words, there is a 90% chance that the average value in the entire population is between\", lower_bound, \"and\", upper_bound)"
   ]
  },
  {
   "cell_type": "markdown",
   "id": "2e23ebf2-b6b5-4a6b-a791-6f83eddfa22f",
   "metadata": {},
   "source": [
    "### Problem_6: Use Python to plot the chi-square distribution with 10 degrees of freedom. Label the axes and shade the area corresponding to a chi-square statistic of 15."
   ]
  },
  {
   "cell_type": "code",
   "execution_count": 13,
   "id": "ebb6274a-c25c-4948-8b41-529a81b478e2",
   "metadata": {},
   "outputs": [
    {
     "data": {
      "image/png": "[encoded data removed]",
      "text/plain": [
       "<Figure size 640x480 with 1 Axes>"
      ]
     },
     "metadata": {},
     "output_type": "display_data"
    }
   ],
   "source": [
    "import matplotlib.pyplot as plt\n",
    "from scipy.stats import chi2\n",
    "\n",
    "# Degrees of freedom\n",
    "df = 10\n",
    "\n",
    "# Chi-square values for the x-axis\n",
    "x = np.linspace(0, 30, 100)\n",
    "\n",
    "# Probability density function (PDF) of chi-square distribution\n",
    "pdf = chi2.pdf(x, df)\n",
    "\n",
    "# Plot the PDF\n",
    "plt.plot(x, pdf, label=f\"Chi-Square Distribution (df={df})\")\n",
    "\n",
    "# Shade the area above chi-square statistic of 15\n",
    "plt.fill_between(x, pdf, 0, where=x >= 15, alpha=0.8, color='lightblue', label=\"Area > 15\")\n",
    "\n",
    "# Labels and title\n",
    "plt.xlabel(\"Chi-Square Statistic\")\n",
    "plt.ylabel(\"Probability Density\")\n",
    "plt.title(f\"Chi-Square Distribution (df={df}) with Shaded Area > 15\")\n",
    "\n",
    "# Legend\n",
    "plt.legend()\n",
    "\n",
    "# Grid and show the plot\n",
    "plt.grid(True)\n",
    "plt.show()"
   ]
  },
  {
   "cell_type": "markdown",
   "id": "cf8d00f0-e45a-4a62-9228-349527c09251",
   "metadata": {},
   "source": [
    "### Problem_7: A random sample of 1000 people was asked if they preferred Coke or Pepsi. Of the sample, 520 preferred Coke. Calculate a 99% confidence interval for the true proportion of people in the population who prefer Coke."
   ]
  },
  {
   "cell_type": "code",
   "execution_count": 14,
   "id": "e6d991fc-8658-4a7f-ae40-c75012ccc30b",
   "metadata": {},
   "outputs": [
    {
     "name": "stdout",
     "output_type": "stream",
     "text": [
      "99% confidence interval: (0.4793, 0.5607)\n",
      "We can be 99% confident that the true proportion of people in the population who prefer Coke falls within this interval.\n"
     ]
    }
   ],
   "source": [
    "import scipy.stats as stats\n",
    "import numpy as np\n",
    "# Sample size\n",
    "n = 1000\n",
    "\n",
    "# Number of people preferring Coke\n",
    "n_success = 520\n",
    "\n",
    "# Sample proportion\n",
    "p_hat = n_success / n  # Proportion preferring Coke in the sample\n",
    "\n",
    "# Confidence level\n",
    "confidence_level = 0.99\n",
    "\n",
    "# Calculate critical z-score\n",
    "z_critical=stats.norm.ppf(1-(1-confidence_level)/2)\n",
    "\n",
    "# Standard error\n",
    "se = np.sqrt(p_hat * (1 - p_hat) / n)  # Standard error of the proportion\n",
    "\n",
    "# Confidence interval bounds\n",
    "lower_bound = p_hat - z_critical * se\n",
    "upper_bound = p_hat + z_critical * se\n",
    "\n",
    "# Print the confidence interval\n",
    "print(f\"99% confidence interval: ({lower_bound:.4f}, {upper_bound:.4f})\")\n",
    "\n",
    "# Interpretation\n",
    "print(\"We can be 99% confident that the true proportion of people in the population who prefer Coke falls within this interval.\")"
   ]
  },
  {
   "cell_type": "markdown",
   "id": "31ec9a35-70fd-4bbf-a2b1-61fa9565c861",
   "metadata": {},
   "source": [
    "### Problem_8: A researcher hypothesizes that a coin is biased towards tails. They flip the coin 100 times and observe 45 tails. Conduct a chi-square goodness of fit test to determine if the observed frequencies match the expected frequencies of a fair coin. Use a significance level of 0.05."
   ]
  },
  {
   "cell_type": "code",
   "execution_count": 15,
   "id": "ae06cf31-1c68-4d61-93b0-908390f99878",
   "metadata": {},
   "outputs": [
    {
     "name": "stdout",
     "output_type": "stream",
     "text": [
      "Fail to reject the null hypothesis. There is not enough evidence to conclude the coin is biased towards tails.\n",
      "Chi-square statistic: 0.00\n",
      "p-value: 1.0000\n"
     ]
    }
   ],
   "source": [
    "from scipy.stats import chi2_contingency\n",
    "\n",
    "# Expected frequencies for a fair coin (50 heads, 50 tails)\n",
    "expected_probs = [0.5, 0.5]\n",
    "expected_counts = np.multiply(expected_probs, 100)  # Assuming 100 coin flips\n",
    "\n",
    "# Observed counts (45 tails and 55 heads - calculated based on problem statement)\n",
    "observed_counts = [55, 45]\n",
    "\n",
    "# Chi-square test and p-value\n",
    "chi2, pval, deg, expected = chi2_contingency(observed_counts, expected_counts)\n",
    "\n",
    "# Hypothesis test decision (one-tailed test for biased towards tails)\n",
    "if pval < 0.05:\n",
    "    print(\"Reject null hypothesis. The observed data suggests the coin is biased towards tails.\")\n",
    "else:\n",
    "    print(\"Fail to reject the null hypothesis. There is not enough evidence to conclude the coin is biased towards tails.\")\n",
    "\n",
    "# Additional information (optional)\n",
    "print(f\"Chi-square statistic: {chi2:.2f}\")\n",
    "print(f\"p-value: {pval:.4f}\")\n"
   ]
  },
  {
   "cell_type": "markdown",
   "id": "7235d69e-e452-44cc-ac0d-e3c10ea19293",
   "metadata": {},
   "source": [
    "### Problem_9: A study was conducted to determine if there is an association between smoking status (smoker or non-smoker) and lung cancer diagnosis (yes or no). The results are shown in the contingency table below. Conduct a chi-square test for independence to determine if there is a significant association between smoking status and lung cancer diagnosis.\n",
    "\n",
    "                 Lung Cancer: Yes         Lung Cancer: No\n",
    "    Smoker               60                    140\n",
    "    Non Smoker           30                    170\n",
    "\n",
    "\n",
    "Use a significance level of 0.05."
   ]
  },
  {
   "cell_type": "code",
   "execution_count": 16,
   "id": "8ec0e2e8-22e7-4b5e-9620-0ca1126b7a50",
   "metadata": {},
   "outputs": [
    {
     "name": "stdout",
     "output_type": "stream",
     "text": [
      "Reject null hypothesis. There is a significant association between smoking status and lung cancer diagnosis.\n"
     ]
    }
   ],
   "source": [
    "from scipy.stats import chi2_contingency\n",
    "\n",
    "# Contingency table data\n",
    "data = [[60, 140], [30, 170]]\n",
    "\n",
    "# Chi-square test and p-value\n",
    "chi2, pval, deg, expected = chi2_contingency(data)\n",
    "\n",
    "# Hypothesis test decision\n",
    "if pval < 0.05:\n",
    "    print(\"Reject null hypothesis. There is a significant association between smoking status and lung cancer diagnosis.\")\n",
    "else:\n",
    "    print(\"Fail to reject the null hypothesis. There is not enough evidence to conclude an association between smoking status and lung cancer diagnosis.\")"
   ]
  },
  {
   "cell_type": "markdown",
   "id": "2b25ac98-f1ec-4d5c-a123-7039b0cd7a3d",
   "metadata": {},
   "source": [
    "### Problem_10:A study was conducted to determine if the proportion of people who prefer milk chocolate, dark chocolate, or white chocolate is different in the U.S. versus the U.K. A random sample of 500 people from the U.S. and a random sample of 500 people from the U.K. were surveyed. The results are shown in the contingency table below. Conduct a chi-square test for independence to determine if there is a significant association between chocolate preference and country of origin.\n",
    "\n",
    "                   Milk chocolate  |   Dark Chocolate  |   White chocolate\n",
    "    U.S.(n=500)         200                150                  150\n",
    "    U.K.(n=500)         225                175                  100\n",
    "\n",
    "\n",
    "Use a significance level of 0.01."
   ]
  },
  {
   "cell_type": "code",
   "execution_count": 17,
   "id": "f19c5016-86e2-49bd-b7a6-d6a103c9d890",
   "metadata": {},
   "outputs": [
    {
     "name": "stdout",
     "output_type": "stream",
     "text": [
      "Reject null hypothesis. There is a significant association between chocolate preference and country of origin.\n"
     ]
    }
   ],
   "source": [
    "from scipy.stats import chi2_contingency\n",
    "\n",
    "# Contingency table data\n",
    "data = [[200, 150, 150], [225, 175, 100]]\n",
    "\n",
    "# Chi-square test and p-value\n",
    "chi2, pval, deg, expected = chi2_contingency(data)\n",
    "\n",
    "# Hypothesis test decision\n",
    "if pval < 0.01:\n",
    "    print(\"Reject null hypothesis. There is a significant association between chocolate preference and country of origin.\")\n",
    "else:\n",
    "    print(\"Fail to reject the null hypothesis. There is not enough evidence to conclude an association between chocolate preference and country of origin.\")"
   ]
  },
  {
   "cell_type": "markdown",
   "id": "96281005-df44-4998-b661-54f77ec8935c",
   "metadata": {},
   "source": [
    "### Problem_11: A random sample of 30 people was selected from a population with an unknown mean and standard deviation. The sample mean was found to be 72 and the sample standard deviation was found to be 10. Conduct a hypothesis test to determine if the population mean is significantly different from 70. Use a significance level of 0.05."
   ]
  },
  {
   "cell_type": "markdown",
   "id": "3f82ebfe-2531-4027-a5c7-b16b438dfe64",
   "metadata": {},
   "source": [
    "  - Since the population standard deviation (σ) is unknown, we'll use a t-test instead of a z-test for this hypothesis test."
   ]
  },
  {
   "cell_type": "code",
   "execution_count": 19,
   "id": "e2fc14ab-d3b3-4fd0-b133-34bfe7484528",
   "metadata": {},
   "outputs": [
    {
     "name": "stdout",
     "output_type": "stream",
     "text": [
      "Fail to reject the null hypothesis. There is not enough evidence to conclude the population mean is different from 70.\n",
      "t-statistic: nan\n",
      "p-value (one-tailed): nan\n"
     ]
    },
    {
     "name": "stderr",
     "output_type": "stream",
     "text": [
      "/tmp/ipykernel_77/730543320.py:12: RuntimeWarning: Precision loss occurred in moment calculation due to catastrophic cancellation. This occurs when the data are nearly identical. Results may be unreliable.\n",
      "  t_statistic, pval = ttest_ind(a=[sample_mean], b=[hypothesized_mean], equal_var=False)\n"
     ]
    }
   ],
   "source": [
    "from scipy.stats import ttest_ind\n",
    "\n",
    "# Sample mean and standard deviation\n",
    "sample_mean = 72\n",
    "sample_std = 10\n",
    "sample_size = 30\n",
    "\n",
    "# Hypothesized population mean\n",
    "hypothesized_mean = 70\n",
    "\n",
    "# t-statistic and p-value (one-tailed test, assuming unknown variance)\n",
    "t_statistic, pval = ttest_ind(a=[sample_mean], b=[hypothesized_mean], equal_var=False)\n",
    "\n",
    "# Hypothesis test decision (significance level 0.05)\n",
    "alpha = 0.05\n",
    "if pval < alpha:\n",
    "    print(\"Reject null hypothesis. The population mean is significantly different from 70.\")\n",
    "else:\n",
    "    print(\"Fail to reject the null hypothesis. There is not enough evidence to conclude the population mean is different from 70.\")\n",
    "    \n",
    "print(f\"t-statistic: {t_statistic:.2f}\")\n",
    "print(f\"p-value (one-tailed): {pval:.4f}\")"
   ]
  }
 ],
 "metadata": {
  "kernelspec": {
   "display_name": "Python 3 (ipykernel)",
   "language": "python",
   "name": "python3"
  },
  "language_info": {
   "codemirror_mode": {
    "name": "ipython",
    "version": 3
   },
   "file_extension": ".py",
   "mimetype": "text/x-python",
   "name": "python",
   "nbconvert_exporter": "python",
   "pygments_lexer": "ipython3",
   "version": "3.10.8"
  }
 },
 "nbformat": 4,
 "nbformat_minor": 5
}
