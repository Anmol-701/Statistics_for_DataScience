{
 "cells": [
  {
   "cell_type": "markdown",
   "id": "0106131d-99b2-462e-8263-b70a371f402f",
   "metadata": {},
   "source": [
    "### Problem_1: What are the three measures of central tendency?"
   ]
  },
  {
   "cell_type": "markdown",
   "id": "127e4411-9b3f-432c-be3c-e9033665beb7",
   "metadata": {},
   "source": [
    "The three most commonly used measures of central tendency are:\n",
    "1. Mean\n",
    "2. Median\n",
    "3. Mode"
   ]
  },
  {
   "cell_type": "markdown",
   "id": "1ab1951b-d611-47fa-b452-2ca8b3e1a338",
   "metadata": {},
   "source": [
    "### Problem_2: What is the difference between the mean, median, and mode? How are they used to measure the central tendency of a dataset?"
   ]
  },
  {
   "cell_type": "markdown",
   "id": "858d9aaa-c238-4eb9-9df1-5ed19c3ed1cf",
   "metadata": {},
   "source": [
    "All three (mean, median, and mode) try to represent the center or most typical value in a dataset, but they do it in different ways:\n",
    "\n",
    "  - Mean:  This is the classic average, calculated by summing all the values and dividing by the number of values. It's good for symmetrical datasets, but can be skewed by extreme values (outliers).\n",
    "\n",
    "  - Median:  Imagine ordering your data points from least to greatest. The median is the \"middle\" value. If you have an even number of data points, it's the average of the two middle ones. Median is less affected by outliers than the mean.\n",
    "\n",
    "  - Mode: This is the most frequent value. You can have one mode (most common scenario), multiple modes (bimodal or multimodal data), or even no mode if all values appear equally often. Mode is useful for categorical data (e.g., shoe sizes) where finding an average doesn't make sense."
   ]
  },
  {
   "cell_type": "markdown",
   "id": "2548e586-ddc4-406b-97e2-496b65193224",
   "metadata": {},
   "source": [
    "### Problem_3: Measure the three measures of central tendency for the given height data:\n",
    "[178,177,176,177,178.2,178,175,179,180,175,178.9,176.2,177,172.5,178,176.5]"
   ]
  },
  {
   "cell_type": "code",
   "execution_count": 13,
   "id": "7dd17dda-40ed-4fe4-afba-bd863b4bbd23",
   "metadata": {},
   "outputs": [
    {
     "data": {
      "text/html": [
       "<div>\n",
       "<style scoped>\n",
       "    .dataframe tbody tr th:only-of-type {\n",
       "        vertical-align: middle;\n",
       "    }\n",
       "\n",
       "    .dataframe tbody tr th {\n",
       "        vertical-align: top;\n",
       "    }\n",
       "\n",
       "    .dataframe thead th {\n",
       "        text-align: right;\n",
       "    }\n",
       "</style>\n",
       "<table border=\"1\" class=\"dataframe\">\n",
       "  <thead>\n",
       "    <tr style=\"text-align: right;\">\n",
       "      <th></th>\n",
       "      <th>Mean</th>\n",
       "      <th>median</th>\n",
       "      <th>mode</th>\n",
       "    </tr>\n",
       "  </thead>\n",
       "  <tbody>\n",
       "    <tr>\n",
       "      <th>0</th>\n",
       "      <td>177.01875</td>\n",
       "      <td>177.0</td>\n",
       "      <td>178</td>\n",
       "    </tr>\n",
       "  </tbody>\n",
       "</table>\n",
       "</div>"
      ],
      "text/plain": [
       "        Mean  median  mode\n",
       "0  177.01875   177.0   178"
      ]
     },
     "execution_count": 13,
     "metadata": {},
     "output_type": "execute_result"
    }
   ],
   "source": [
    "import numpy as np\n",
    "import statistics as st\n",
    "import pandas as pd\n",
    "data=[178,177,176,177,178.2,178,175,179,180,175,178.9,176.2,177,172.5,178,176.5]\n",
    "# Measuring the central tendency for the data\n",
    "statistics={\n",
    "    'Mean': [np.mean(data)],\n",
    "    'median':[np.median(data)],\n",
    "    'mode':[st.mode(data)]\n",
    "}\n",
    "df=pd.DataFrame(statistics)\n",
    "df"
   ]
  },
  {
   "cell_type": "markdown",
   "id": "78d578f3-c9df-4e1c-af70-b5fd98b49416",
   "metadata": {},
   "source": [
    "### Problem_4: Find the standard deviation for the given data:\n",
    "[178,177,176,177,178.2,178,175,179,180,175,178.9,176.2,177,172.5,178,176.5]"
   ]
  },
  {
   "cell_type": "code",
   "execution_count": 15,
   "id": "968bb610-e42b-44a4-839d-89826144cc7f",
   "metadata": {},
   "outputs": [
    {
     "data": {
      "text/plain": [
       "1.7885814036548633"
      ]
     },
     "execution_count": 15,
     "metadata": {},
     "output_type": "execute_result"
    }
   ],
   "source": [
    "import numpy as np\n",
    "data=[178,177,176,177,178.2,178,175,179,180,175,178.9,176.2,177,172.5,178,176.5]\n",
    "# Standard deviation of the given data:\n",
    "std=np.std(data)\n",
    "std"
   ]
  },
  {
   "cell_type": "markdown",
   "id": "0edfcef7-9a34-49a2-8484-6168d2d92cff",
   "metadata": {},
   "source": [
    "### Problem_5: How are measures of dispersion such as range, variance, and standard deviation used to describe the spread of a dataset? Provide an example."
   ]
  },
  {
   "cell_type": "markdown",
   "id": "4e0d1a5a-1094-4809-afe5-dd83ead566b1",
   "metadata": {},
   "source": [
    "1. Range:\n",
    "\n",
    "  - This is the simplest measure, calculated as the difference between the highest and lowest values in the data set.\n",
    "  - Example: In your data (172.5, 175, 175.5, ..., 180), the range is 180 - 172.5 = 7.5.\n",
    "* Range is easy to calculate but has limitations:\n",
    "  - It only considers the two extreme values and ignores the distribution of the rest of the data.\n",
    "  - Outliers can significantly affect the range, making it less informative for skewed data.\n",
    "2. Variance:\n",
    "\n",
    "  - This gives a more detailed picture of spread. It calculates the average of the squared deviations of each data point from the mean.\n",
    "  - A larger variance indicates that the data points are further away from the mean on average.\n",
    "  - Calculation: We'd first find the mean of the data (around 177.2). Then, for each data point, subtract the mean, square the difference, and finally, average all those squared deviations.\n",
    "* Variance has its own drawbacks:\n",
    "  - Since it uses squared deviations, the units are squared compared to the original data, making interpretation less intuitive.\n",
    "3. Standard Deviation:\n",
    "\n",
    "  - This solves the interpretability issue of variance by taking the square root of the variance.\n",
    "  - Standard deviation has the same units as the original data, making it easier to understand the spread in the context of the data values.\n",
    "  - A higher standard deviation indicates that the data points are further away from the mean on average.\n",
    "  \n",
    "#### Example:\n",
    "\n",
    "Let's say you have exam scores for 20 students:\n",
    "\n",
    "  - Range: 85 (highest) - 50 (lowest) = 35 points\n",
    "  - Variance: (Let's say the calculated variance is 121)\n",
    "  - Standard Deviation: √(Variance) = √(121) = 11 points          \n",
    "#### The range tells us the spread is within 35 points. The variance of 121 indicates an average squared deviation of 121 from the mean score. Finally, the standard deviation of 11 points gives a clearer picture - the scores typically deviate from the mean by 11 points on average."
   ]
  },
  {
   "cell_type": "markdown",
   "id": "6f577de6-56a0-4e14-b7b2-b18dc41bb419",
   "metadata": {},
   "source": [
    "### Problem_6: What is a Venn diagram?"
   ]
  },
  {
   "cell_type": "markdown",
   "id": "8b5bf5b5-1562-42c7-abb4-5dec916f4fc2",
   "metadata": {},
   "source": [
    "  - A Venn diagram is a graphical tool that uses overlapping circles to represent relationships between sets. It's a way to visually show how different groups of things are similar and different. Circles are the most common shape used,"
   ]
  },
  {
   "cell_type": "markdown",
   "id": "ab01cb33-d6b7-440a-bc19-4521867402a2",
   "metadata": {},
   "source": [
    "### Problem_7: For the two given sets A = (2,3,4,5,6,7) & B = (0,2,6,8,10). Find:\n",
    "1. A Intersection B\n",
    "2. A ⋃nion B"
   ]
  },
  {
   "cell_type": "code",
   "execution_count": 4,
   "id": "ff848e6b-2a1a-4ca1-848e-36d1933d2701",
   "metadata": {},
   "outputs": [
    {
     "name": "stdout",
     "output_type": "stream",
     "text": [
      "Intersection: {2, 6}\n",
      "Union: {0, 2, 3, 4, 5, 6, 7, 8, 10}\n"
     ]
    }
   ],
   "source": [
    "# Sets A and B\n",
    "A = {2, 3, 4, 5, 6, 7}\n",
    "B = {0, 2, 6, 8, 10}\n",
    "\n",
    "# intersection\n",
    "intersection=A.intersection(B)\n",
    "union=A.union(B)\n",
    "\n",
    "print('Intersection:',intersection)\n",
    "print('Union:',union)"
   ]
  },
  {
   "cell_type": "markdown",
   "id": "956b3c1d-191c-493f-9f91-f8d2d262d307",
   "metadata": {},
   "source": [
    "### Problem_8: What do you understand about skewness in data?"
   ]
  },
  {
   "cell_type": "markdown",
   "id": "e3414cfc-5ddc-4d23-b940-d8cb2437e82f",
   "metadata": {},
   "source": [
    "#### Skewness tells us how asymmetric a distribution of data is. In other words, it describes whether the data is clustered more towards one side (left or right) of the center compared to the other. Here's a breakdown of key points about skewness:\n",
    "\n",
    "#### Visualizing Skewness:\n",
    "Imagine a normal distribution (bell curve). If the data points are distributed symmetrically around the mean, the curve is perfectly balanced. This signifies zero skewness.\n",
    "\n",
    "  - Positive Skew: When the tail of the distribution extends further to the right side of the mean, the curve leans right. This indicates positive skewness. Imagine income data where most people have a lower income, but a few have very high incomes, creating a long tail to the right.\n",
    "  - Negative Skew: When the tail extends further to the left side of the mean, the curve leans left. This indicates negative skewness. An example might be exam scores where most students score well (clustered on the left) and only a few score very low.\n",
    "\n",
    "#### How to Measure Skewness:\n",
    "\n",
    "There are formulas to calculate skewness, but a simpler way to get a general idea is to look at the difference between the mean, median, and mode.\n",
    "\n",
    "  - In a symmetrical distribution (no skew), mean, median, and mode will be close in value.\n",
    "  - In a positively skewed distribution, the mean will be greater than the median, which will be greater than the mode (mean > median > mode).\n",
    "  - In a negatively skewed distribution, the mean will be less than the median, which will be less than the mode (mean < median < mode)."
   ]
  },
  {
   "cell_type": "markdown",
   "id": "04a7960a-1d6c-45b7-a318-4ec43b6520b9",
   "metadata": {},
   "source": [
    "### Problem_9: If a data is right skewed then what will be the position of median with respect to mean?"
   ]
  },
  {
   "cell_type": "markdown",
   "id": "d6a88f7c-9797-42ef-8399-c87d3829108e",
   "metadata": {},
   "source": [
    "#### If a data set is right skewed, then the median will be less than the mean.\n",
    "\n",
    "#### Here's why:\n",
    "\n",
    "  - In a right-skewed distribution, there are more data points clustered on the left side of the distribution and a longer tail extending towards the right side.\n",
    "  - The mean is sensitive to extreme values. Since the tail is on the right with higher values, the mean will be pulled slightly towards the right, placing it higher than the center of the data.\n",
    "  - The median, however, is the middle value when the data is ordered from least to greatest. In a right-skewed distribution, the middle value will be located more towards the left side of the data where most of the data points are clustered."
   ]
  },
  {
   "cell_type": "markdown",
   "id": "39f4949d-5110-43dd-a771-18b48e466cfa",
   "metadata": {},
   "source": [
    "### Problem_10: Explain the difference between covariance and correlation. How are these measures used in statistical analysis?"
   ]
  },
  {
   "cell_type": "markdown",
   "id": "79b13665-67b7-4115-8417-049aa7abea94",
   "metadata": {},
   "source": [
    "#### Covariance and correlation are both used to measure the relationship between two variables, but they do so in slightly different ways:\n",
    "\n",
    "#### Covariance:\n",
    "\n",
    "  - What it measures: Covariance tells you how two variables change together. A positive covariance indicates that when one variable increases, the other tends to increase as well, and vice versa for a negative covariance. A covariance of zero means there's no linear relationship between the variables.\n",
    "  - Units: Covariance is measured in the units obtained by multiplying the units of the two variables. For example, if you're looking at weight (kg) and height (cm), the covariance would be in kg*cm. This makes comparing covariance values across different datasets tricky.\n",
    "  - Interpretation: The magnitude of the covariance (positive or negative) tells you about the direction of the relationship, but it's difficult to interpret the strength of the relationship due to the units.\n",
    "  \n",
    "#### Correlation:\n",
    "\n",
    "* What it measures: Correlation is a standardized version of covariance. It takes the covariance and divides it by the product of the standard deviations of the two variables. This removes the influence of units and puts the correlation on a scale of -1 to +1.\n",
    "* Interpretation:\n",
    "  - A correlation coefficient of +1 indicates a perfect positive linear relationship (as one variable increases, the other always increases proportionally).\n",
    "  - A correlation coefficient of -1 indicates a perfect negative linear relationship (as one variable increases, the other always decreases proportionally).\n",
    "  - Values closer to 0 indicate a weaker linear relationship, either positive or negative.\n",
    "* Benefits: Since it's standardized, correlation allows you to compare the strength of linear relationships between different pairs of variables, regardless of their original units."
   ]
  },
  {
   "cell_type": "markdown",
   "id": "d0b98ac0-a274-4fc4-945e-90a08ac8aade",
   "metadata": {},
   "source": [
    "### Problem_11: What is the formula for calculating the sample mean? Provide an example calculation for a dataset."
   ]
  },
  {
   "cell_type": "markdown",
   "id": "d197a900-ccd3-4c87-b92a-fd20ee72f0fe",
   "metadata": {},
   "source": [
    "#### The formula for calculating the sample mean (average) is:\n",
    "\n",
    "Σ (xi) / n\n",
    "\n",
    "#### where:\n",
    "\n",
    "  - Σ (sigma) represents the sum of all the values in the data set (xi).\n",
    "  - xi represents each individual value in the data set.\n",
    "  - n represents the total number of values in the data set (sample size).\n",
    "\n",
    "#### Here's an example calculation:\n",
    "\n",
    "Let's say you have a dataset of exam scores for 5 students: {75, 82, 90, 85, 88}\n",
    "\n",
    "  - Σ (xi): Add up all the exam scores: 75 + 82 + 90 + 85 + 88 = 420\n",
    "  - n: The number of students (data points) is 5.\n",
    "  - Sample Mean: Apply the formula: Σ (xi) / n = 420 / 5 = 84"
   ]
  },
  {
   "cell_type": "markdown",
   "id": "aa99f65d-ed52-4cd7-b789-d0541d138efb",
   "metadata": {},
   "source": [
    "### Problem_12: For a normal distribution data what is the relationship between its measure of central tendency?"
   ]
  },
  {
   "cell_type": "markdown",
   "id": "efc88d1e-0d17-478b-a0d8-9ead1ba32e9f",
   "metadata": {},
   "source": [
    "#### In a normal distribution, all three measures of central tendency –  mean (average), median (middle value), and mode (most frequent value) –  coincide and have the same value.\n",
    "\n",
    "#### Here's why:\n",
    "\n",
    "* A normal distribution is symmetrical. The data points are mirrored around a central point, forming a bell-shaped curve."
   ]
  },
  {
   "cell_type": "markdown",
   "id": "584b55c1-a17b-4a98-8143-404dbee6a1ca",
   "metadata": {},
   "source": [
    "### Problem_13: How is covariance different from correlation?"
   ]
  },
  {
   "cell_type": "markdown",
   "id": "091e8f64-e360-4f6c-b4b5-0ed5187202a9",
   "metadata": {},
   "source": [
    "#### Covariance:\n",
    "\n",
    "* What it measures: Covariance tells you how two variables change together.\n",
    "  - A positive covariance indicates that when one variable increases, the other tends to increase as well, and vice versa for a negative covariance.\n",
    "  - A covariance of zero means there's no linear relationship between the variables.\n",
    "* Units: Covariance is measured in the units obtained by multiplying the units of the two variables. (For example, weight in kg and height in cm would result in covariance in kg*cm). This makes comparing covariance values across different datasets difficult.\n",
    "* Interpretation: The magnitude of the covariance (positive or negative) tells you about the direction of the relationship, but it's hard to interpret the strength due to the units.\n",
    "\n",
    "#### Correlation:\n",
    "\n",
    "* What it measures: Correlation is a standardized version of covariance. It takes the covariance and divides it by the product of the standard deviations of the two variables. This removes the influence of units and puts the correlation on a scale of -1 to +1.\n",
    "* Interpretation:\n",
    "  - A correlation coefficient of +1 indicates a perfect positive linear relationship (as one variable increases, the other always increases proportionally).\n",
    "  - A correlation coefficient of -1 indicates a perfect negative linear relationship (as one variable increases, the other always decreases proportionally).\n",
    "  - Values closer to 0 indicate a weaker linear relationship, either positive or negative.\n",
    "* Benefits: Since it's standardized, correlation allows you to compare the strength of linear relationships between different pairs of variables, regardless of their original units."
   ]
  },
  {
   "cell_type": "markdown",
   "id": "77d9e200-a646-4100-a842-7f5f855adbb6",
   "metadata": {},
   "source": [
    "### Problem_14: How do outliers affect measures of central tendency and dispersion? Provide an example."
   ]
  },
  {
   "cell_type": "markdown",
   "id": "773bc8b7-ca94-4625-9e9d-6524e632b375",
   "metadata": {},
   "source": [
    "#### Outliers, which are data points that fall significantly outside the overall pattern of the data, can significantly impact how we measure both central tendency (mean, median, mode) and dispersion (range, variance, standard deviation).\n",
    "\n",
    "#### Central tendency:\n",
    "\n",
    "  - Mean: Outliers are very sensitive to the mean. A single extreme outlier can significantly pull the mean in its direction, misrepresenting the center of the data if outliers are not numerous.\n",
    "  - Median: The median is less affected by outliers compared to the mean. Since it's the middle value, extreme outliers on either side won't necessarily influence its position as long as they don't become the new middle value.\n",
    "  - Mode: The mode (most frequent value) is generally not affected by outliers unless the outlier itself becomes the most frequent value, which is uncommon.\n",
    "  \n",
    "#### Dispersion:\n",
    "\n",
    "  - Range: Range, which is the difference between the highest and lowest values, is heavily influenced by outliers. A single outlier on either end can significantly inflate the range, making the data seem more spread out than it actually is.\n",
    "  - Variance and Standard Deviation: Both variance and standard deviation are sensitive to outliers because they consider the squared deviations of each data point from the mean. Outliers, by definition, have large deviations from the mean, thus inflating the overall variance and standard deviation.\n",
    "  \n",
    "#### Example:\n",
    "\n",
    "* Imagine a dataset representing exam scores: {75, 82, 85, 88, 90, 150}. Here, 150 is a clear outlier much higher than the rest.\n",
    "\n",
    "  - Mean: The mean with the outlier is significantly higher (around 93) compared to the mean without it (around 84). The outlier pulls the mean upwards.\n",
    "  - Median: The median with and without the outlier might be the same (88) depending on the order of the other scores. The median remains less influenced by the outlier in this case.        \n",
    "  -  Mode: The mode (most frequent score) is likely not affected by the outlier (assuming there are no multiple scores of 150).          \n",
    "  - Range: The range with the outlier is much larger (150 - 75 = 75) compared to the range without it (90 - 75 = 15). The outlier significantly inflates the range.\n",
    "Variance and Standard Deviation: Both will be higher when the outlier is included, as the squared deviation of 150 from the mean is much larger than the deviations of other scores."
   ]
  },
  {
   "cell_type": "code",
   "execution_count": null,
   "id": "43b7ead9-c05c-4b02-98d3-b5df77f47497",
   "metadata": {},
   "outputs": [],
   "source": []
  }
 ],
 "metadata": {
  "kernelspec": {
   "display_name": "Python 3 (ipykernel)",
   "language": "python",
   "name": "python3"
  },
  "language_info": {
   "codemirror_mode": {
    "name": "ipython",
    "version": 3
   },
   "file_extension": ".py",
   "mimetype": "text/x-python",
   "name": "python",
   "nbconvert_exporter": "python",
   "pygments_lexer": "ipython3",
   "version": "3.10.8"
  }
 },
 "nbformat": 4,
 "nbformat_minor": 5
}
