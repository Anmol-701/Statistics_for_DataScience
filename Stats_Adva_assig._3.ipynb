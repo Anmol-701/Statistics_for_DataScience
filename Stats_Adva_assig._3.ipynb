{
 "cells": [
  {
   "cell_type": "markdown",
   "id": "d1e22be2-8b5b-40c0-ac86-8c6140b36618",
   "metadata": {},
   "source": [
    "### Problem_1: What is Estimation Statistics? Explain point estimate and interval estimate."
   ]
  },
  {
   "cell_type": "markdown",
   "id": "b1b30865-2ccf-40ff-99e3-fd2f78f4dcc1",
   "metadata": {},
   "source": [
    "- Estimation statistics is a branch of statistics focused on using data to approximate unknown characteristics of a larger population. It goes beyond simple yes/no answers about an effect and delves into the size and range of that effect.\n",
    "\n",
    "- Here's a breakdown of the key concepts:\n",
    "\n",
    "- Estimation Statistics:\n",
    "\n",
    "  1. Goal: Estimate population parameters (characteristics) based on a sample of the population.\n",
    "  2. Tools: Uses a combination of effect sizes, confidence intervals, and meta-analysis.\n",
    "  3. Benefits: Provides more information than just whether an effect exists (hypothesis testing) by telling you how big it is and how certain you can be about that size.\n",
    "\n",
    "- There are two main types of estimates:\n",
    "\n",
    "  1. Point Estimate: A single number that represents the most likely value of the population parameter. For example, the average height of all people in a country is a population parameter. We can estimate this by finding the average height of a representative sample of people (point estimate).\n",
    "  2. Interval Estimate: A range of values that are likely to contain the true population parameter. It considers the inherent variability in using a sample to represent the whole population. The range is typically expressed as a confidence interval, which indicates the level of certainty (e.g., 95% confidence interval)."
   ]
  },
  {
   "cell_type": "markdown",
   "id": "537d3548-525e-4657-82a4-1eb5d3610ec4",
   "metadata": {},
   "source": [
    "### Problem_2: Write a Python function to estimate the population mean using a sample mean and standard deviation."
   ]
  },
  {
   "cell_type": "code",
   "execution_count": 2,
   "id": "2104bb09-c377-490d-b856-19d393a88612",
   "metadata": {},
   "outputs": [
    {
     "name": "stdout",
     "output_type": "stream",
     "text": [
      "Estimated population mean: 10.50\n",
      "Margin of error (95% confidence): +/- nan\n"
     ]
    }
   ],
   "source": [
    "def estimate_population_mean(sample_mean, sample_std, confidence_level=0.95):\n",
    "  # Calculate the critical value (z-score) for the chosen confidence level\n",
    "  from scipy.stats import norm\n",
    "  z_critical = norm.ppf(1 + (confidence_level / 2))\n",
    "\n",
    "  # Calculate the margin of error\n",
    "  margin_of_error = z_critical * sample_std\n",
    "\n",
    "  # Estimate the population mean\n",
    "  population_mean_estimate = sample_mean\n",
    "\n",
    "  return population_mean_estimate, margin_of_error\n",
    "\n",
    "# Example usage\n",
    "sample_mean = 10.5\n",
    "sample_std = 2.1\n",
    "population_mean_estimate, margin_of_error = estimate_population_mean(sample_mean, sample_std)\n",
    "\n",
    "print(f\"Estimated population mean: {population_mean_estimate:.2f}\")\n",
    "print(f\"Margin of error (95% confidence): +/- {margin_of_error:.2f}\")"
   ]
  },
  {
   "cell_type": "markdown",
   "id": "b41c55a2-408f-43a1-b6dc-d67ceae7696f",
   "metadata": {},
   "source": [
    "### Problem_3:What is Hypothesis testing? Why is it used? State the importance of Hypothesis testing."
   ]
  },
  {
   "cell_type": "markdown",
   "id": "33fa36de-7941-427c-9b47-4b1fb081c4a8",
   "metadata": {},
   "source": [
    "- Hypothesis testing is a statistical method used to evaluate a claim (hypothesis) about a population parameter based on sample data. It's a formal way to assess the evidence for or against an idea.\n",
    "\n",
    "Here's a breakdown of hypothesis testing:\n",
    "\n",
    "- Why is it used?\n",
    "  - Hypothesis testing allows researchers to make objective decisions based on data, reducing the influence of chance or personal bias.\n",
    "  - It helps determine if observed effects are likely due to real differences or simply random variation within a sample.\n",
    "\n",
    "Importance of Hypothesis Testing:\n",
    "\n",
    "  1. Guides decision-making: In various fields like medicine, science, or business, hypothesis testing helps decide whether a new drug is effective, an advertising campaign works, or a new teaching method improves learning outcomes.\n",
    "  2. Reduces risk of errors: By statistically evaluating evidence, hypothesis testing helps avoid the mistake of rejecting a true hypothesis or accepting a false one."
   ]
  },
  {
   "cell_type": "markdown",
   "id": "5f4a156e-97d6-4c97-8c08-8dcbd34f63d9",
   "metadata": {},
   "source": [
    "### Problem_4:Create a hypothesis that states whether the average weight of male college students is greater than the average weight of female college students."
   ]
  },
  {
   "cell_type": "markdown",
   "id": "166dfe54-0c9c-4a17-8ac4-0beafbb5a8df",
   "metadata": {},
   "source": [
    "1. Null Hypothesis (H0): The average weight of male college students is equal to the average weight of female college students.\n",
    "\n",
    "2. Alternative Hypothesis (Ha): The average weight of male college students is greater than the average weight of female college students.\n",
    "\n",
    "3. This hypothesis sets up a two-tailed test where we're specifically interested in whether males weigh more, not necessarily that they weigh less."
   ]
  },
  {
   "cell_type": "markdown",
   "id": "2a62f004-6c61-4a9d-a6d9-3bc1b022db64",
   "metadata": {},
   "source": [
    "### Problem_5:Write a Python script to conduct a hypothesis test on the difference between two population means, given a sample from each population."
   ]
  },
  {
   "cell_type": "code",
   "execution_count": 3,
   "id": "4c6bffeb-b5c8-4a36-b3c5-c983246440d2",
   "metadata": {},
   "outputs": [
    {
     "name": "stdout",
     "output_type": "stream",
     "text": [
      "t-statistic: 6.35\n",
      "p-value: 0.0002\n",
      "Reject null hypothesis. The average weight of males is likely greater than females (at 10% significance level).\n"
     ]
    }
   ],
   "source": [
    "from scipy.stats import ttest_ind\n",
    "\n",
    "def two_sample_t_test(sample1, sample2, significance_level=0.05):\n",
    "  # Perform the two-sample t-test\n",
    "  statistic, pval = ttest_ind(sample1, sample2, equal_var=False)  # Consider unequal variances\n",
    "\n",
    "  # Interpret the results\n",
    "  reject_null_hypothesis = pval < significance_level\n",
    "  \n",
    "  return statistic, pval, reject_null_hypothesis\n",
    "\n",
    "# Example usage\n",
    "# Sample data (replace with your actual data)\n",
    "male_weights = [75, 82, 78, 88, 80]\n",
    "female_weights = [62, 58, 65, 59, 68]\n",
    "\n",
    "# Perform the t-test with 90% confidence level\n",
    "t_statistic, p_value, reject_null = two_sample_t_test(male_weights, female_weights, significance_level=0.10)\n",
    "\n",
    "print(f\"t-statistic: {t_statistic:.2f}\")\n",
    "print(f\"p-value: {p_value:.4f}\")\n",
    "\n",
    "if reject_null:\n",
    "  print(\"Reject null hypothesis. The average weight of males is likely greater than females (at 10% significance level).\")\n",
    "else:\n",
    "  print(\"Fail to reject null hypothesis. There is not enough evidence to conclude a difference in average weight (at 10% significance level).\")\n"
   ]
  },
  {
   "cell_type": "markdown",
   "id": "8404c2a0-ec1f-4d5c-b54d-a761668a5d15",
   "metadata": {},
   "source": [
    "### Problem_6: What is a null and alternative hypothesis? Give some examples."
   ]
  },
  {
   "cell_type": "markdown",
   "id": "e21116ed-8b2e-455a-992e-d6e04dbe62b6",
   "metadata": {},
   "source": [
    "Null Hypothesis (H0):\n",
    "  - Represents the default assumption, often stating \"no difference\" or \"no effect.\"\n",
    "  - It acts as a baseline and is provisionally accepted unless strong evidence suggests otherwise.    \n",
    "    \n",
    "Alternative Hypothesis (Ha):\n",
    "  - Represents the opposite of the null hypothesis, proposing a specific difference or effect.\n",
    "  - This is what you aim to find evidence for during the test.\n",
    "\n",
    "Here are some examples of null and alternative hypotheses:\n",
    "\n",
    "- Scenario:  Does a new fertilizer increase crop yield?\n",
    "  - H0: The new fertilizer has no effect on crop yield (average yield with new fertilizer is equal to average yield with old fertilizer).\n",
    "  - Ha: The new fertilizer increases crop yield (average yield with new fertilizer is greater than average yield with old fertilizer).\n",
    "  \n",
    "- Scenario:  Is the average sleep duration for teenagers less than 8 hours per night?       \n",
    "  - H0: The average sleep duration for teenagers is 8 hours per night.\n",
    "  - Ha: The average sleep duration for teenagers is less than 8 hours per night."
   ]
  },
  {
   "cell_type": "markdown",
   "id": "99a7f20b-367f-4505-9c6e-f08947ddc612",
   "metadata": {},
   "source": [
    "### Problem_7: Write down the steps involved in hypothesis testing."
   ]
  },
  {
   "cell_type": "markdown",
   "id": "979a1887-cd39-47cb-b7cf-c9155d3b9f86",
   "metadata": {},
   "source": [
    "1. Formulate the Hypotheses:     \n",
    "   - Define the Null Hypothesis (H0): This is the default assumption, typically stating \"no difference\" or \"no effect\" between groups.\n",
    "   - Define the Alternative Hypothesis (Ha): This is the opposite of the null hypothesis, proposing a specific difference or effect you're interested in.       \n",
    " \n",
    "2. Collect Data:\n",
    "   - Design an experiment or survey to gather data relevant to your hypotheses.\n",
    "   - Ensure the collected data is a representative sample of the target population.       \n",
    "  \n",
    "3. Choose a Statistical Test:\n",
    "   - Select the appropriate statistical test based on the type of data (numerical, categorical), number of groups being compared, and the nature of the hypotheses (one-tailed or two-tailed).\n",
    "  \n",
    "4. Analyze the Data:\n",
    "   - Apply the chosen statistical test to your sample data.\n",
    "   - This will often involve calculating a test statistic, a numerical value summarizing the observed difference between groups.\n",
    "\n",
    "5. Interpret the Results:\n",
    "   - Set a significance level (α), which represents the probability of rejecting the null hypothesis when it's actually true. Common significance levels are 0.05 (95% confidence) or 0.01 (99% confidence).\n",
    "   - Calculate the p-value, the probability of observing a test statistic as extreme or more extreme than what you saw, assuming the null hypothesis is true.\n",
    "   - Compare the p-value to the significance level:\n",
    "     - If the p-value is less than α (e.g., p-value < 0.05), you reject the null hypothesis. This suggests evidence against the null hypothesis and supports the alternative hypothesis.\n",
    "     - If the p-value is greater than α, you fail to reject the null hypothesis. There isn't enough evidence to conclude the alternative hypothesis is true at the chosen significance level."
   ]
  },
  {
   "cell_type": "markdown",
   "id": "0dfb7c9d-df61-4a4a-9659-5e5fb5bf88d7",
   "metadata": {},
   "source": [
    "### Problem_8: Define p-value and explain its significance in hypothesis testing."
   ]
  },
  {
   "cell_type": "markdown",
   "id": "53e77cbe-a281-4279-b04a-65db3d26349b",
   "metadata": {},
   "source": [
    "- P-value is number calculated from a statistical test, that describes how likely you are to  have found a particular set of observations if the Null hypothesis were true.\n",
    "- P-value are used in hypothesis testing to help decide whether to reject the null hypothesis.\n",
    "\n",
    "Here's a breakdown of p-value and its significance:\n",
    "\n",
    "1. Calculation: The p-value is calculated based on the specific statistical test used and the test statistic (a numerical value summarizing the observed difference between groups).\n",
    "2. Interpretation: A lower p-value indicates stronger evidence against the null hypothesis. It suggests that the observed difference between groups is unlikely to have occurred by random chance if the null hypothesis were true.\n",
    "3. Decision-Making: The p-value is compared to a pre-chosen significance level (α), typically 0.05 (95% confidence) or 0.01 (99% confidence). Here's how it guides the decision:\n",
    "  - p-value < α: Reject H0: There's evidence to suggest the null hypothesis is unlikely and the alternative hypothesis might be true.\n",
    "  - p-value > α: Fail to Reject H0: There isn't enough evidence at the chosen significance level to conclude the alternative hypothesis is true. The observed difference could be due to chance, even if the null hypothesis isn't entirely accurate.   \n",
    "  \n",
    "Significance of p-value:\n",
    "\n",
    " - The p-value helps quantify the strength of evidence against the null hypothesis. A very low p-value (e.g., 0.001) suggests much stronger evidence against H0 than a moderately low p-value (e.g., 0.04).\n",
    " - It allows researchers to objectively assess the likelihood of their findings being due to random chance, leading to more reliable conclusions.\n",
    "  - However, the p-value itself doesn't determine the truth or falsity of the hypotheses. It should be considered along with other factors like sample size and effect size for a comprehensive interpretation."
   ]
  },
  {
   "cell_type": "markdown",
   "id": "2ff973d7-b768-42a5-b837-3b18ff725650",
   "metadata": {},
   "source": [
    "### Problem_9:Generate a Student's t-distribution plot using Python's matplotlib library, with the degrees of freedom parameter set to 10."
   ]
  },
  {
   "cell_type": "code",
   "execution_count": 3,
   "id": "a64d46c0-4b61-48c2-8aeb-d7187dc513b6",
   "metadata": {},
   "outputs": [
    {
     "data": {
      "image/png": "[encoded data removed]",
      "text/plain": [
       "<Figure size 800x500 with 1 Axes>"
      ]
     },
     "metadata": {},
     "output_type": "display_data"
    }
   ],
   "source": [
    "import matplotlib.pyplot as plt\n",
    "import numpy as np\n",
    "from scipy.stats import t\n",
    "\n",
    "# Define degrees of freedom\n",
    "df = 10\n",
    "\n",
    "# Generate x-axis values\n",
    "x = np.linspace(-5, 5, 200)  # Adjust range as needed\n",
    "\n",
    "# Calculate t-distribution values\n",
    "t_dist = t.pdf(x, df)\n",
    "\n",
    "# Configure the plot\n",
    "plt.figure(figsize=(8, 5))  # Adjust figure size as desired\n",
    "plt.plot(x, t_dist, label=f't-distribution (df={df})')\n",
    "plt.xlabel('x')\n",
    "plt.ylabel('Probability Density')\n",
    "plt.title('Student\\'s t-Distribution (df=10)')\n",
    "plt.grid(True)\n",
    "plt.legend()\n",
    "\n",
    "# Display the plot\n",
    "plt.show()\n"
   ]
  },
  {
   "cell_type": "markdown",
   "id": "6bbe37b8-a95d-4a5d-9a3c-cae7b4a2333a",
   "metadata": {},
   "source": [
    "### Problem_10: Write a Python program to calculate the two-sample t-test for independent samples, given two random samples of equal size and a null hypothesis that the population means are equal."
   ]
  },
  {
   "cell_type": "code",
   "execution_count": 4,
   "id": "52fbd378-c41c-4cd5-bf6c-0b4f22d87e78",
   "metadata": {},
   "outputs": [
    {
     "name": "stdout",
     "output_type": "stream",
     "text": [
      "t-statistic: 1.76\n",
      "p-value: 0.1156\n",
      "Fail to reject null hypothesis. Insufficient evidence to conclude a difference in population means (at 5% significance level).\n"
     ]
    }
   ],
   "source": [
    "from scipy.stats import ttest_ind\n",
    "\n",
    "# Sample data (replace with your actual data)\n",
    "sample1 = [72, 78, 80, 75, 83]\n",
    "sample2 = [68, 70, 75, 72, 79]\n",
    "\n",
    "# Null hypothesis: The population means are equal\n",
    "# Perform the two-sample t-test (assuming equal variances)\n",
    "statistic, pval = ttest_ind(sample1, sample2, equal_var=True)\n",
    "\n",
    "# Print the results\n",
    "print(f\"t-statistic: {statistic:.2f}\")\n",
    "print(f\"p-value: {pval:.4f}\")\n",
    "\n",
    "if pval < 0.05:\n",
    "  print(\"Reject null hypothesis. There is evidence of a difference in population means (at 5% significance level).\")\n",
    "else:\n",
    "  print(\"Fail to reject null hypothesis. Insufficient evidence to conclude a difference in population means (at 5% significance level).\")\n"
   ]
  },
  {
   "cell_type": "markdown",
   "id": "eb29e8a9-9fe2-422b-80a6-527b64412b4f",
   "metadata": {},
   "source": [
    "### Problem_11: What is Student’s t distribution? When to use the t-Distribution."
   ]
  },
  {
   "cell_type": "markdown",
   "id": "2bd8a0f3-ec2d-4145-b1e5-9ae0703ac144",
   "metadata": {},
   "source": [
    "- Student's t-distribution, also called the t-distribution, is a probability distribution similar to the normal distribution (bell curve) but with heavier tails. It's used in statistics when:\n",
    "\n",
    "  - You're estimating the population mean but the population standard deviation is unknown.\n",
    "  - You have a small sample size (less than 30) and don't know if the population data is normally distributed."
   ]
  },
  {
   "cell_type": "markdown",
   "id": "bde0593a-c8e6-4d21-9f75-97399ad26cba",
   "metadata": {},
   "source": [
    "### Problem_12: What is t-statistic? State the formula for t-statistic."
   ]
  },
  {
   "cell_type": "markdown",
   "id": "2f2b8784-5c64-498f-bff9-b08651e151bc",
   "metadata": {},
   "source": [
    "- The t-statistic is a value from a t-test that tells you how much the observed difference between means (compared to a hypothesized value or between two samples) is relative to the standard error. There are different formulas depending on the type of t-test:\n",
    "\n",
    "1. One-Sample t-test:\n",
    "t = (x̄ - μ) / (s / √n)\n",
    "2. Two-Sample t-test (equal variances):\n",
    "t = (x̄1 - x̄2) / √ [(s1² / n1) + (s2² / n2)]\n",
    "\n",
    "where:\n",
    "\n",
    "- t = t-statistic\n",
    "- x̄ = sample mean(s)\n",
    "- μ = hypothesized population mean (one-sample) or mean of other sample (two-sample)\n",
    "- s = sample standard deviation\n",
    "- n = sample size\n",
    "- s² = sample variance"
   ]
  },
  {
   "cell_type": "markdown",
   "id": "77d9436d-5e8e-42dc-8f26-03f8498fa4b0",
   "metadata": {},
   "source": [
    "### Problem_13:A coffee shop owner wants to estimate the average daily revenue for their shop. They take a random sample of 50 days and find the sample mean revenue to be dollar 500 with a standard deviation of dollar 50. Estimate the population mean revenue with a 95% confidence interval."
   ]
  },
  {
   "cell_type": "markdown",
   "id": "7a84ba45-66bb-4e88-9be2-c17448530e25",
   "metadata": {},
   "source": [
    "- The 95% confidence interval for the population mean revenue is dollar 500 ± dollar 13.86. Therefore, the population mean revenue is estimated to be between dollar 486.14 and dollar 513.86."
   ]
  },
  {
   "cell_type": "markdown",
   "id": "e91f1a7c-3d5c-4058-a666-8038eea8e78d",
   "metadata": {},
   "source": [
    "### Problem_14:A researcher hypothesizes that a new drug will decrease blood pressure by 10 mmHg. They conduct a clinical trial with 100 patients and find that the sample mean decrease in blood pressure is 8 mmHg with a standard deviation of 3 mmHg. Test the hypothesis with a significance level of 0.05."
   ]
  },
  {
   "cell_type": "markdown",
   "id": "18f6a38e-c3ad-4cff-bcba-290fb964afd5",
   "metadata": {},
   "source": [
    "1. Define the Hypotheses:\n",
    " - Null Hypothesis (H0): There is no difference in blood pressure or the new drug does not decrease blood pressure by 10 mmHg on average. (Average decrease = 0 mmHg)\n",
    " - Alternative Hypothesis (Ha): The new drug decreases blood pressure by 10 mmHg on average. (Average decrease > 0 mmHg) - This is a one-tailed test because we're interested in a decrease, not just any difference.\n",
    "\n",
    "2. Data and Significance Level:\n",
    " - Sample size (n) = 100 patients\n",
    " - Sample mean decrease (x̄) = 8 mmHg\n",
    " - Standard deviation (s) = 3 mmHg\n",
    " - Significance level (α) = 0.05\n",
    "\n",
    "3. Choose a Statistical Test:\n",
    " - This scenario involves comparing a sample mean to a hypothesized population mean, so a one-sample t-test is appropriate.\n",
    "\n",
    "4. Calculate the Test Statistic (t-statistic):\n",
    " - We'll use the formula for a one-sample t-test:    \n",
    "t = (x̄ - μ) / (s / √n)\n",
    "\n",
    "where:\n",
    "\n",
    " - t = t-statistic (we want to calculate)\n",
    " - x̄ = sample mean decrease = 8 mmHg\n",
    " - μ = hypothesized population mean decrease (from null hypothesis) = 0 mmHg\n",
    " - s = sample standard deviation = 3 mmHg\n",
    " - n = sample size = 100 patients\n",
    "\n",
    "5. Interpret the Results:\n",
    " - We don't need to calculate the p-value directly because the t-statistic (26.67) is a very large positive value. In a one-tailed test like this, very high positive t-statistics (> critical t-value) are evidence against the null hypothesis.\n",
    " \n",
    "6. Conclusion:\n",
    " - With a t-statistic of 26.67, we have very strong evidence to reject the null hypothesis (H0). This suggests the new drug likely decreases blood pressure by more than 0 mmHg on average."
   ]
  },
  {
   "cell_type": "markdown",
   "id": "b4db2358-77e5-4479-8e6d-8693609cd4dd",
   "metadata": {},
   "source": [
    "### Problem_15: An electronics company produces a certain type of product with a mean weight of 5 pounds and a standard deviation of 0.5 pounds. A random sample of 25 products is taken, and the sample mean weight is found to be 4.8 pounds. Test the hypothesis that the true mean weight of the products is less than 5 pounds with a significance level of 0.01."
   ]
  },
  {
   "cell_type": "markdown",
   "id": "012fc0c0-f9d9-4d77-90b4-2a45e1f8f8d8",
   "metadata": {},
   "source": [
    "1. Define the Hypotheses:\n",
    "   - Null Hypothesis (H0): The mean weight of the products is equal to 5 pounds (μ = 5 pounds).\n",
    "   - Alternative Hypothesis (Ha): The mean weight of the products is less than 5 pounds (μ < 5 pounds). - This is a one-tailed test since we're interested in a decrease, not any difference.\n",
    "\n",
    "2. Data and Significance Level:\n",
    "   - Sample size (n) = 25 products\n",
    "   - Sample mean weight (x̄) = 4.8 pounds\n",
    "   - Population standard deviation (σ) = 0.5 pounds (given) - Note that we're using the population standard deviation since it's provided.\n",
    "   - Significance level (α) = 0.01\n",
    "\n",
    "3. Statistical Test:\n",
    "   - This scenario involves comparing a sample mean to a hypothesized population mean, so a one-sample t-test is appropriate. However, since we're using the population standard deviation (σ) instead of the sample standard deviation (s), we'll use a variation of the t-test formula with σ.\n",
    "\n",
    "4. Calculate the Test Statistic (t-statistic):\n",
    "   - The formula for a one-sample t-test with population standard deviation is:   \n",
    "t = (x̄ - μ) / (σ / √n)\n",
    "\n",
    "where:\n",
    "   - t = t-statistic (we want to calculate)\n",
    "   - x̄ = sample mean weight = 4.8 pounds\n",
    "   - μ = hypothesized population mean weight = 5 pounds\n",
    "   - σ = population standard deviation = 0.5 pounds\n",
    "   - n = sample size = 25 products\n",
    "\n",
    "5. Interpret the Results:\n",
    "   - We need to find the critical t-value for a one-tailed test with α = 0.01 and degrees of freedom (df) = n-1 = 24.  In this case, the critical t-value for a one-tailed test with α = 0.01 and df = 24 is approximately -2.49.\n",
    "\n",
    "6. Conclusion:\n",
    "   - Our calculated t-statistic (-2) is less extreme (closer to 0) than the critical t-value (-2.49). In a one-tailed test for a lower mean, we reject the null hypothesis if the t-statistic is less than the critical t-value.\n",
    "   - Since our t-statistic is not less extreme than the critical value, we fail to reject the null hypothesis.        \n",
    "At a 0.01 significance level, there isn't enough evidence to conclude that the true mean weight of the products is less than 5 pounds based on this sample data."
   ]
  },
  {
   "cell_type": "markdown",
   "id": "03c6fa1e-6bd1-4b86-bc0a-836cdd26c41f",
   "metadata": {},
   "source": [
    "### Problem_16: Two groups of students are given different study materials to prepare for a test. The first group (n1 =30) has a mean score of 80 with a standard deviation of 10, and the second group (n2 = 40) has a mean score of 75 with a standard deviation of 8. Test the hypothesis that the population means for the two groups are equal with a significance level of 0.01."
   ]
  },
  {
   "cell_type": "markdown",
   "id": "bedc8997-2301-46c6-8030-746ea5712d33",
   "metadata": {},
   "source": [
    "1. Define Hypotheses:\n",
    "   - Null Hypothesis (H0): The population means for the two groups are equal (μ1 = μ2).\n",
    "   - Alternative Hypothesis (Ha): The population means for the two groups are not equal (μ1 ≠ μ2). - This is a two-tailed test because we're interested in any difference, not just a specific direction.\n",
    "\n",
    "2. Data and Significance Level:\n",
    "   - Group 1:\n",
    "     - Sample size (n1) = 30 students\n",
    "     - Sample mean (x̄1) = 80\n",
    "     - Standard deviation (s1) = 10\n",
    "   - Group 2:\n",
    "     - Sample size (n2) = 40 students\n",
    "     - Sample mean (x̄2) = 75\n",
    "     - Standard deviation (s2) = 8\n",
    "   - Significance level (α) = 0.01\n",
    "\n",
    "3. Statistical Test:\n",
    "   - This scenario involves comparing the means of two independent samples. Since we don't necessarily assume equal variances in the populations, we'll use a two-sample t-test with unequal variances.\n",
    "\n",
    "4. Conclusion:\n",
    "   - Based on the p-value obtained from the t-test and comparing it to the significance level (0.01), we can determine whether to reject the null hypothesis or not."
   ]
  },
  {
   "cell_type": "markdown",
   "id": "b730507e-7134-4dfc-afc2-da1cc2dc93cd",
   "metadata": {},
   "source": [
    "### Problem_17: A marketing company wants to estimate the average number of ads watched by viewers during a TV program. They take a random sample of 50 viewers and find that the sample mean is 4 with a standard deviation of 1.5. Estimate the population mean with a 99% confidence interval."
   ]
  },
  {
   "cell_type": "markdown",
   "id": "0d55991c-eb05-4b79-b1e4-4a2a710aa10c",
   "metadata": {},
   "source": [
    "1. Data and Significance Level:\n",
    "   - Sample size (n) = 50 viewers\n",
    "   - Sample mean (x̄) = 4 ads\n",
    "   - Sample standard deviation (s) = 1.5 ads\n",
    "   - Confidence level = 99% (which translates to a significance level α = 1 - 0.99 = 0.01)\n",
    "\n",
    "2. Formula:\n",
    "   - We can estimate the population mean (μ) with a confidence interval using the formula:             \n",
    "μ = x̄ ± (z * (s / √n))\n",
    "\n",
    "where:\n",
    "  - μ = population mean (we want to estimate)\n",
    "  - x̄ = sample mean = 4 ads\n",
    "  - z = critical value from the standard normal distribution for a 99% confidence interval\n",
    "  - s = sample standard deviation = 1.5 ads\n",
    "  - n = sample size = 50 viewers\n",
    "\n",
    "3. Find the Critical Value (z):\n",
    "   - A 99% confidence level means we want to capture 99% of the possible population means within the interval. In a normal distribution, 99% of the data falls within 2.575 standard deviations of the mean (half on either side).\n",
    "\n",
    "   - Therefore, the critical value (z) in this case is ± 2.575 (one for each side of the confidence interval).\n",
    "\n",
    "4. Calculate the Confidence Interval:\n",
    "   - Lower bound: μ_lower = x̄ - (z * s / √n)\n",
    "   - Upper bound: μ_upper = x̄ + (z * s / √n)\n",
    "\n",
    "5. Interpretation:\n",
    "   - We can be 99% confident that the true population mean (μ) of the number of ads watched by viewers during the TV program falls somewhere between 3.21 ads and 4.79 ads."
   ]
  }
 ],
 "metadata": {
  "kernelspec": {
   "display_name": "Python 3 (ipykernel)",
   "language": "python",
   "name": "python3"
  },
  "language_info": {
   "codemirror_mode": {
    "name": "ipython",
    "version": 3
   },
   "file_extension": ".py",
   "mimetype": "text/x-python",
   "name": "python",
   "nbconvert_exporter": "python",
   "pygments_lexer": "ipython3",
   "version": "3.10.8"
  }
 },
 "nbformat": 4,
 "nbformat_minor": 5
}
