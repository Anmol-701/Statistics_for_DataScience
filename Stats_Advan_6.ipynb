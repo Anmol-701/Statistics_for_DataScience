{
 "cells": [
  {
   "cell_type": "markdown",
   "id": "86964ef1-e15a-4ada-ae57-976ad93831d0",
   "metadata": {},
   "source": [
    "### Problem_1: Explain the assumptions required to use ANOVA and provide examples of violations that could impact the validity of the results."
   ]
  },
  {
   "cell_type": "markdown",
   "id": "4a32ce87-8ed4-409f-82a5-b8484c7d6c61",
   "metadata": {},
   "source": [
    "ANOVA makes some key assumptions about your data to ensure accurate results. Here are the main ones:\n",
    "\n",
    "  - Normality: The data within each group should be normally distributed (bell-shaped curve). Violation: If your data is heavily skewed or has outliers, the results may not be reliable.\n",
    "\n",
    "  - Homogeneity of variance: The variances (spread) of the data should be equal across all groups. Violation: Unequal variances can inflate the effect of groups with higher variance, leading to misleading conclusions.\n",
    "\n",
    "  - Independence: Observations within each group should be independent and not influence each other. Violation: If observations are related (e.g., repeated measures on same subjects), ANOVA may not be appropriate."
   ]
  },
  {
   "cell_type": "markdown",
   "id": "eedddb47-2114-4ac1-973f-e862db4a91f6",
   "metadata": {},
   "source": [
    "### Problem_2: What are the three types of ANOVA, and in what situations would each be used?"
   ]
  },
  {
   "cell_type": "markdown",
   "id": "37a5b9ad-8f16-4ada-a9fc-b65a88ab863e",
   "metadata": {},
   "source": [
    "There are three main types of ANOVA, used for analyzing the impact of categorical variables on a continuous outcome:\n",
    "\n",
    "  - One-Way ANOVA: This tests for differences between one independent variable (factor) with three or more levels on a dependent variable. Use it to compare means across groups, like plant growth under different fertilizer types.\n",
    "\n",
    "  - Two-Way ANOVA: This analyzes the effects of two independent variables (each with multiple levels) on a dependent variable. It considers both individual and interaction effects. Use it to see if fertilizer type and watering frequency together affect plant growth.\n",
    "\n",
    "  - N-Way ANOVA (General ANOVA): This extends the concept to analyze more than two independent variables simultaneously. It's less common but can handle complex multi-factor experiments."
   ]
  },
  {
   "cell_type": "markdown",
   "id": "b49f77fa-70cb-4cf8-8422-a50047e077fb",
   "metadata": {},
   "source": [
    "### Problem_3: What is the partitioning of variance in ANOVA, and why is it important to understand this concept?"
   ]
  },
  {
   "cell_type": "markdown",
   "id": "e8a0f043-8e46-44bf-b3de-888cfe2c2c42",
   "metadata": {},
   "source": [
    "Partitioning variance in ANOVA is all about breaking down the total variability in your data into different sources. Imagine you're analyzing plant heights. The total variation includes differences due to the experiment (fertilizer types) and random error (natural variations among plants).\n",
    "\n",
    "Understanding partitioning is important because:\n",
    "\n",
    "  - Identifies key sources of variation: It helps you see how much of the total difference is explained by your experiment (fertilizer effect) and how much is just random noise.\n",
    "\n",
    "  - ANOVA Test Statistic: This partitioning is used to calculate the F-statistic, which is the core of ANOVA. The F-statistic tells you if the differences between groups (fertilizer effect) are statistically significant compared to random variation."
   ]
  },
  {
   "cell_type": "markdown",
   "id": "e1e9177f-a796-46e6-9491-0fd39d8c727b",
   "metadata": {},
   "source": [
    "### Problem_4: How would you calculate the total sum of squares (SST), explained sum of squares (SSE), and residual sum of squares (SSR) in a one-way ANOVA using Python?"
   ]
  },
  {
   "cell_type": "code",
   "execution_count": 2,
   "id": "df7acd63-bdb2-47aa-b5a6-2688d48ccfec",
   "metadata": {},
   "outputs": [
    {
     "name": "stdout",
     "output_type": "stream",
     "text": [
      "Total Sum of Squares (SST): 60.0\n",
      "Explained Sum of Squares (SSE): 38.0\n",
      "Residual Sum of Squares (SSR): 22.0\n"
     ]
    }
   ],
   "source": [
    "import numpy as np\n",
    "import pandas as pd\n",
    "\n",
    "# Example data: creating a DataFrame with 'group' and 'value' columns\n",
    "data = {\n",
    "    'group': ['A', 'A', 'A', 'B', 'B', 'B', 'C', 'C', 'C'],\n",
    "    'value': [10, 12, 15, 8, 9, 11, 13, 14, 16]\n",
    "}\n",
    "df = pd.DataFrame(data)\n",
    "\n",
    "# Calculate overall mean\n",
    "overall_mean = df['value'].mean()\n",
    "\n",
    "# Calculate SST\n",
    "sst = np.sum((df['value'] - overall_mean) ** 2)\n",
    "\n",
    "# Calculate group means\n",
    "group_means = df.groupby('group')['value'].mean()\n",
    "\n",
    "# Calculate SSE\n",
    "sse = np.sum((group_means - overall_mean) ** 2 * df.groupby('group').size())\n",
    "\n",
    "# Calculate SSR\n",
    "ssr = sst - sse\n",
    "\n",
    "print(\"Total Sum of Squares (SST):\", sst)\n",
    "print(\"Explained Sum of Squares (SSE):\", sse)\n",
    "print(\"Residual Sum of Squares (SSR):\", ssr)\n",
    "\n"
   ]
  },
  {
   "cell_type": "markdown",
   "id": "2840e087-f17c-45a5-9145-16beb0474edb",
   "metadata": {},
   "source": [
    "### Problem_5: In a two-way ANOVA, how would you calculate the main effects and interaction effects using Python?"
   ]
  },
  {
   "cell_type": "code",
   "execution_count": 5,
   "id": "c042a6f1-8b18-49e0-9a59-7d4b3d9d5787",
   "metadata": {},
   "outputs": [
    {
     "name": "stdout",
     "output_type": "stream",
     "text": [
      "ANOVA Results:\n",
      "                  df     sum_sq    mean_sq         F    PR(>F)\n",
      "factor1          2.0  20.666667  10.333333  1.248322  0.403214\n",
      "factor2          1.0  13.500000  13.500000  1.630872  0.291457\n",
      "factor1:factor2  2.0   1.000000   0.500000  0.060403  0.942501\n",
      "Residual         3.0  24.833333   8.277778       NaN       NaN\n"
     ]
    }
   ],
   "source": [
    "import numpy as np\n",
    "from statsmodels.formula.api import ols\n",
    "from statsmodels.stats.anova import anova_lm\n",
    "\n",
    "# Sample data (Example)\n",
    "data = {'factor1': ['A', 'A', 'A', 'B', 'B', 'B', 'C', 'C', 'C'],\n",
    "        'factor2': [1, 2, 3, 1, 2, 3, 1, 2, 3],\n",
    "        'response': [10, 12, 8, 14, 16, 11, 13, 15, 9]}\n",
    "\n",
    "# Define the formula for the two-way ANOVA model\n",
    "formula = 'response ~ factor1 + factor2 + factor1:factor2'  # interaction term included\n",
    "\n",
    "# Fit the model\n",
    "model = ols(formula, data).fit()\n",
    "\n",
    "# Perform ANOVA analysis\n",
    "anova_results = anova_lm(model)\n",
    "\n",
    "# Print main effects and interaction effect\n",
    "print(\"ANOVA Results:\")\n",
    "print(anova_results)"
   ]
  },
  {
   "cell_type": "markdown",
   "id": "0578ee22-0b7c-4eed-ac9c-0c2ce5fa0ea8",
   "metadata": {},
   "source": [
    "### Problem_6: Suppose you conducted a one-way ANOVA and obtained an F-statistic of 5.23 and a p-value of 0.02.What can you conclude about the differences between the groups, and how would you interpret these results?"
   ]
  },
  {
   "cell_type": "markdown",
   "id": "e26e2192-f548-4081-aa71-21133fd77271",
   "metadata": {},
   "source": [
    "  - In a one-way ANOVA, the F-statistic tests the null hypothesis that the means of all groups are equal against the alternative hypothesis that at least one group mean is different. The p-value associated with the F-statistic indicates the probability of observing such an extreme result (or more extreme) under the assumption that the null hypothesis is true.\n",
    "  \n",
    "In this case:\n",
    "  - F-statistic = 5.23\n",
    "  - p-value = 0.02\n",
    "  \n",
    "  - Given that the p-value is less than the significance level (usually 0.05), we reject the null hypothesis. This means that there is sufficient evidence to conclude that at least one of the group means is different from the others.\n",
    "  \n",
    "Interpretation:\n",
    "  - The differences between the groups are statistically significant.\n",
    "  - The factors (groups) being compared have a significant effect on the dependent variable.\n",
    "  - It's not possible to determine from the ANOVA alone which specific group(s) differ from each other, only that there is a difference somewhere.\n",
    "  - Post-hoc tests (e.g., Tukey's HSD, Bonferroni, etc.) can be conducted to determine pairwise differences between groups if needed."
   ]
  },
  {
   "cell_type": "markdown",
   "id": "616fcf88-ad54-4425-9e50-104cabdf6991",
   "metadata": {},
   "source": [
    "### Problem_7:  In a repeated measures ANOVA, how would you handle missing data, and what are the potential consequences of using different methods to handle missing data?"
   ]
  },
  {
   "cell_type": "markdown",
   "id": "1fbe0003-da17-4e62-8e72-2f15a54a6d41",
   "metadata": {},
   "source": [
    "Handling Missing Data:\n",
    "  - Listwise Deletion (Least Preferred): This removes entire participants if they have any missing data points. This can be wasteful and reduce power, especially if missingness is low.\n",
    "  - Mean/Median Imputation: Missing values are replaced with the mean or median of the participant's other measurements. This assumes missingness is random (MCAR) and can underestimate variability.\n",
    "  - Model-based Methods (Preferred): Mixed-effects models can account for missing data while considering the repeated measures structure. This is more robust and handles missingness not completely random (MAR).      \n",
    "  \n",
    "Consequences of Different Methods:\n",
    "  - Listwise Deletion: Loss of power, biased estimates if missingness is related to the outcome.\n",
    "  - Mean/Median Imputation: May underestimate variability, might not be suitable for skewed data.\n",
    "  - Mixed-effects Models: More complex but statistically sound, requires careful model assumptions check."
   ]
  },
  {
   "cell_type": "markdown",
   "id": "ef91aefa-b6c1-424b-ab5b-e8814a2c483d",
   "metadata": {},
   "source": [
    "### Problem_8:  What are some common post-hoc tests used after ANOVA, and when would you use each one? Provide an example of a situation where a post-hoc test might be necessary."
   ]
  },
  {
   "cell_type": "markdown",
   "id": "dc50f774-2f10-4c4f-8812-fa1bdfee430f",
   "metadata": {},
   "source": [
    "Here are some common post-hoc tests used after ANOVA and when to use them:\n",
    "  - Tukey's Honestly Significant Difference (HSD): This is a conservative test used to compare all possible pairs of means while controlling for family-wise error rate (FWER). It's suitable for a small number of groups with equal variances.\n",
    "\n",
    "  - Games-Howell test: This is a more robust alternative to Tukey's HSD when variances are unequal between groups.\n",
    "\n",
    "  - Scheffe's test: This is another conservative test that can handle unequal variances but is generally less powerful than Tukey's HSD.\n",
    "\n",
    "  - Fisher's Least Significant Difference (LSD): This is a less conservative test compared to Tukey's HSD, but it has a higher chance of identifying false positives (Type I errors).\n",
    "\n",
    "Choosing the Right Test:\n",
    "  - Use Tukey's HSD or Games-Howell for a small number of groups with equal or unequal variances, respectively.\n",
    "  - Use Scheffe's test if you need a very conservative test even with unequal variances.\n",
    "  - Use Fisher's LSD with caution due to the higher risk of false positives.\n",
    "  \n",
    "Example:\n",
    "  - Imagine you're studying the effects of different fertilizers (3 groups) on plant growth. ANOVA reveals a significant overall effect. You can't tell which specific fertilizers differ from each other. Here, a post-hoc test like Tukey's HSD would be necessary to determine which fertilizer types lead to significantly different plant growth."
   ]
  },
  {
   "cell_type": "markdown",
   "id": "17b4ac72-b21d-48a5-9d34-e9cc02d145c1",
   "metadata": {},
   "source": [
    "### Problem_9:  A researcher wants to compare the mean weight loss of three diets: A, B, and C. They collect data from 50 participants who were randomly assigned to one of the diets. Conduct a one-way ANOVA using Python to determine if there are any significant differences between the mean weight loss of the three diets. Report the F-statistic and p-value, and interpret the results."
   ]
  },
  {
   "cell_type": "code",
   "execution_count": 6,
   "id": "be011426-1cb6-4fab-b54a-2b924acef372",
   "metadata": {},
   "outputs": [
    {
     "name": "stdout",
     "output_type": "stream",
     "text": [
      "F-statistic: 1.4481751824817515\n",
      "p-value: 0.27328022439387284\n",
      "We fail to reject the null hypothesis (p >= 0.05). There is not enough evidence to conclude that the mean weight loss differs significantly between the three diets.\n"
     ]
    }
   ],
   "source": [
    "import numpy as np\n",
    "from scipy.stats import f_oneway\n",
    "\n",
    "# Sample data (Example dataset)\n",
    "weight_loss = {\n",
    "    \"Diet A\": [2.5, 3.1, 1.8, 2.7, 4.2],\n",
    "    \"Diet B\": [1.9, 2.3, 3.0, 2.8, 1.5],\n",
    "    \"Diet C\": [3.4, 2.9, 1.7, 4.1, 3.8]\n",
    "}\n",
    "\n",
    "# Extract data into separate arrays\n",
    "diet_A_data = np.array(weight_loss[\"Diet A\"])\n",
    "diet_B_data = np.array(weight_loss[\"Diet B\"])\n",
    "diet_C_data = np.array(weight_loss[\"Diet C\"])\n",
    "\n",
    "# Combine data into a single array with labels for groups\n",
    "data = np.concatenate((diet_A_data, diet_B_data, diet_C_data))\n",
    "groups = np.concatenate([['A'] * len(diet_A_data), ['B'] * len(diet_B_data), ['C'] * len(diet_C_data)])\n",
    "\n",
    "# Perform one-way ANOVA\n",
    "f_statistic, p_value = f_oneway(diet_A_data, diet_B_data, diet_C_data)\n",
    "\n",
    "# Print results and interpretation\n",
    "print(\"F-statistic:\", f_statistic)\n",
    "print(\"p-value:\", p_value)\n",
    "\n",
    "if p_value < 0.05:\n",
    "  print(\"There is statistically significant evidence (p < 0.05) to reject the null hypothesis of equal mean weight loss across all diets. This suggests at least one diet leads to a different average weight loss compared to the others.\")\n",
    "else:\n",
    "  print(\"We fail to reject the null hypothesis (p >= 0.05). There is not enough evidence to conclude that the mean weight loss differs significantly between the three diets.\")\n"
   ]
  },
  {
   "cell_type": "markdown",
   "id": "78800329-42eb-4819-ba3c-e968f9376b42",
   "metadata": {},
   "source": [
    "### Problem_10:  A company wants to know if there are any significant differences in the average time it takes to complete a task using three different software programs: Program A, Program B, and Program C. They randomly assign 30 employees to one of the programs and record the time it takes each employee to complete the task. Conduct a two-way ANOVA using Python to determine if there are any main effects or interaction effects between the software programs and employee experience level (novice vs. experienced). Report the F-statistics and p-values, and interpret the results."
   ]
  },
  {
   "cell_type": "code",
   "execution_count": 14,
   "id": "01333b2f-e3c0-40b1-b8da-56ee63203742",
   "metadata": {},
   "outputs": [
    {
     "name": "stdout",
     "output_type": "stream",
     "text": [
      "Main Effect for Software: F = 166.38461538461763 p = 6.082929487455021e-30\n",
      "Main Effect for Experience: F = 3.1216690576613713e-27 p = 1.0\n",
      "Interaction Effect: F = 2.119184536691426e-28 p = 1.0\n"
     ]
    }
   ],
   "source": [
    "import pandas as pd\n",
    "import statsmodels.api as sm\n",
    "from statsmodels.formula.api import ols\n",
    "\n",
    "# Example data: create a DataFrame with 'software', 'experience', and 'time' columns\n",
    "data = {\n",
    "    'software': ['A', 'A', 'A', 'B', 'B', 'B', 'C', 'C', 'C'] * 10,\n",
    "    'experience': ['novice', 'experienced'] * 45,\n",
    "    'time': [12, 14, 15, 10, 11, 13, 16, 18, 20] * 10\n",
    "}\n",
    "df = pd.DataFrame(data)\n",
    "\n",
    "# Fit the two-way ANOVA model\n",
    "model = ols('time ~ C(software) + C(experience) + C(software):C(experience)', data=df).fit()\n",
    "\n",
    "# Perform ANOVA\n",
    "anova_table = sm.stats.anova_lm(model, typ=2)\n",
    "\n",
    "# Extract F-statistics and p-values\n",
    "f_software = anova_table.loc['C(software)', 'F']\n",
    "p_software = anova_table.loc['C(software)', 'PR(>F)']\n",
    "\n",
    "f_experience = anova_table.loc['C(experience)', 'F']\n",
    "p_experience = anova_table.loc['C(experience)', 'PR(>F)']\n",
    "\n",
    "f_interaction = anova_table.loc['C(software):C(experience)', 'F']\n",
    "p_interaction = anova_table.loc['C(software):C(experience)', 'PR(>F)']\n",
    "\n",
    "print(\"Main Effect for Software: F =\", f_software, \"p =\", p_software)\n",
    "print(\"Main Effect for Experience: F =\", f_experience, \"p =\", p_experience)\n",
    "print(\"Interaction Effect: F =\", f_interaction, \"p =\", p_interaction)"
   ]
  },
  {
   "cell_type": "markdown",
   "id": "0686a144-dbf2-41a6-942c-9fbdfbacdfde",
   "metadata": {},
   "source": [
    "Interpretation:\n",
    "  - If the p-value for the main effect of software or experience is less than the significance level (e.g., 0.05), we conclude that there is a significant main effect of software or experience on the time taken to complete the task.\n",
    "  - If the p-value for the interaction effect is less than the significance level, we conclude that there is a significant interaction effect between software and experience on the time taken to complete the task."
   ]
  },
  {
   "cell_type": "markdown",
   "id": "547c8a42-2e06-4b8d-8528-a86115fe292c",
   "metadata": {},
   "source": [
    "### Problem_11:  An educational researcher is interested in whether a new teaching method improves student test scores. They randomly assign 100 students to either the control group (traditional teaching method) or the experimental group (new teaching method) and administer a test at the end of the semester. Conduct a two-sample t-test using Python to determine if there are any significant differences in test scores between the two groups. If the results are significant, follow up with a post-hoc test to determine which group(s) differ significantly from each other."
   ]
  },
  {
   "cell_type": "code",
   "execution_count": 17,
   "id": "8fd90c13-128e-499e-8af3-7bdaf5187378",
   "metadata": {},
   "outputs": [
    {
     "name": "stdout",
     "output_type": "stream",
     "text": [
      "Two-sample t-test results:\n",
      "t-statistic: -4.611556534850402\n",
      "p-value: 0.0002166740355855245\n",
      "\n",
      "Tukey's HSD test results:\n",
      "  Multiple Comparison of Means - Tukey HSD, FWER=0.05   \n",
      "========================================================\n",
      " group1    group2    meandiff p-adj  lower upper  reject\n",
      "--------------------------------------------------------\n",
      "Control Experimental      8.6 0.0002 4.682 12.518   True\n",
      "--------------------------------------------------------\n"
     ]
    }
   ],
   "source": [
    "import numpy as np\n",
    "from scipy.stats import ttest_ind\n",
    "from statsmodels.stats.multicomp import pairwise_tukeyhsd\n",
    "\n",
    "# Example data: test scores for control and experimental groups\n",
    "control_scores = np.array([75, 80, 85, 70, 78, 82, 79, 81, 77, 76])\n",
    "experimental_scores = np.array([85, 88, 90, 92, 78, 86, 83, 89, 87, 91])\n",
    "\n",
    "# Perform two-sample t-test\n",
    "t_statistic, p_value = ttest_ind(control_scores, experimental_scores)\n",
    "\n",
    "print(\"Two-sample t-test results:\")\n",
    "print(\"t-statistic:\", t_statistic)\n",
    "print(\"p-value:\", p_value)\n",
    "\n",
    "# Perform post-hoc Tukey's HSD test if the t-test is significant\n",
    "if p_value < 0.05:\n",
    "    # Combine scores and labels\n",
    "    scores = np.concatenate([control_scores, experimental_scores])\n",
    "    labels = ['Control'] * len(control_scores) + ['Experimental'] * len(experimental_scores)\n",
    "    \n",
    "    # Perform Tukey's HSD test\n",
    "    tukey_results = pairwise_tukeyhsd(scores, labels, alpha=0.05)\n",
    "    print(\"\\nTukey's HSD test results:\")\n",
    "    print(tukey_results)\n",
    "else:\n",
    "    print(\"\\nNo significant differences found, post-hoc test not conducted.\")\n"
   ]
  },
  {
   "cell_type": "markdown",
   "id": "dfac884c-e9f4-4c1b-bbdc-f609937f420e",
   "metadata": {},
   "source": [
    "### Problem_12:  A researcher wants to know if there are any significant differences in the average daily sales of three retail stores: Store A, Store B, and Store C. They randomly select 30 days and record the sales for each store on those days. Conduct a repeated measures ANOVA using Python to determine if there are any significant differences in sales between the three stores. If the results are significant, follow up with a post-hoc test to determine which store(s) differ significantly from each other."
   ]
  },
  {
   "cell_type": "code",
   "execution_count": 18,
   "id": "3a77bf4a-a719-4660-a639-3478315e0e3a",
   "metadata": {},
   "outputs": [
    {
     "name": "stdout",
     "output_type": "stream",
     "text": [
      "One-way ANOVA results:\n",
      "F-statistic: 2.1379139395433953\n",
      "p-value: 0.12405407287312517\n",
      "\n",
      "No significant differences found, post-hoc test not conducted.\n"
     ]
    }
   ],
   "source": [
    "import numpy as np\n",
    "import pandas as pd\n",
    "from scipy.stats import f_oneway\n",
    "from statsmodels.stats.multicomp import pairwise_tukeyhsd\n",
    "\n",
    "# Example data: sales for Store A, Store B, and Store C for 30 days\n",
    "np.random.seed(0)  # For reproducibility\n",
    "store_a_sales = np.random.normal(loc=100, scale=20, size=30)\n",
    "store_b_sales = np.random.normal(loc=110, scale=25, size=30)\n",
    "store_c_sales = np.random.normal(loc=120, scale=30, size=30)\n",
    "\n",
    "# Combine the sales data into a DataFrame\n",
    "data = {\n",
    "    'Store': ['A'] * 30 + ['B'] * 30 + ['C'] * 30,\n",
    "    'Sales': np.concatenate([store_a_sales, store_b_sales, store_c_sales])\n",
    "}\n",
    "df = pd.DataFrame(data)\n",
    "\n",
    "# Perform one-way ANOVA\n",
    "f_statistic, p_value = f_oneway(store_a_sales, store_b_sales, store_c_sales)\n",
    "\n",
    "print(\"One-way ANOVA results:\")\n",
    "print(\"F-statistic:\", f_statistic)\n",
    "print(\"p-value:\", p_value)\n",
    "\n",
    "# Perform post-hoc Tukey's HSD test if the ANOVA results are significant\n",
    "if p_value < 0.05:\n",
    "    tukey_results = pairwise_tukeyhsd(df['Sales'], df['Store'])\n",
    "    print(\"\\nTukey's HSD test results:\")\n",
    "    print(tukey_results)\n",
    "else:\n",
    "    print(\"\\nNo significant differences found, post-hoc test not conducted.\")\n"
   ]
  }
 ],
 "metadata": {
  "kernelspec": {
   "display_name": "Python 3 (ipykernel)",
   "language": "python",
   "name": "python3"
  },
  "language_info": {
   "codemirror_mode": {
    "name": "ipython",
    "version": 3
   },
   "file_extension": ".py",
   "mimetype": "text/x-python",
   "name": "python",
   "nbconvert_exporter": "python",
   "pygments_lexer": "ipython3",
   "version": "3.10.8"
  }
 },
 "nbformat": 4,
 "nbformat_minor": 5
}
