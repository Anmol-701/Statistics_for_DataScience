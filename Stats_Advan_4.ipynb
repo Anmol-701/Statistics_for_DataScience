{
 "cells": [
  {
   "cell_type": "markdown",
   "id": "320eef78-9998-42e0-8ff1-efe5d6285fa1",
   "metadata": {},
   "source": [
    "### Problem_1: What is the difference between a t-test and a z-test? Provide an example scenario where you would use each type of test."
   ]
  },
  {
   "cell_type": "markdown",
   "id": "6e5be54d-2a86-4a02-8039-9b655f628ef2",
   "metadata": {},
   "source": [
    "  - Sample Size: A z-test assumes a large sample size (typically over 30) and a known population standard deviation. A t-test is used for smaller samples (less than 30) or when the population standard deviation is unknown.\n",
    "\n",
    "  - Test Statistic: The z-test uses the standard normal distribution, while the t-test uses the student's t-distribution, which is more robust for smaller samples.\n",
    "  \n",
    "Scenario Examples:\n",
    "\n",
    "  - Z-test: You want to see if a new fertilizer increases corn yield (large farms, likely big sample size). You know the historical standard deviation of corn yield.\n",
    "\n",
    "  - T-test:  A study investigates if a new medication reduces blood pressure (smaller clinical trial, likely using a sample with less than 30 participants). You don't have historical data on the population's blood pressure variation."
   ]
  },
  {
   "cell_type": "markdown",
   "id": "3a3cbc87-be85-4b4c-b3ee-6e69d6aa3255",
   "metadata": {},
   "source": [
    "### Problem_2:Differentiate between one-tailed and two-tailed tests."
   ]
  },
  {
   "cell_type": "markdown",
   "id": "02cfbe22-f159-4232-abfe-ab791ff02324",
   "metadata": {},
   "source": [
    "  - Two-tailed test: Used when you expect a difference in either direction (higher or lower) compared to a hypothesized value. Imagine a coin toss - you're looking for a result that deviates from the expected 50/50 chance (heads or tails).\n",
    "\n",
    "  - One-tailed test: Used when you expect a difference in only one direction (greater than or less than) compared to a hypothesized value.  This is like predicting a coin toss will land on heads specifically."
   ]
  },
  {
   "cell_type": "markdown",
   "id": "b08579e9-f54f-4c9c-a6da-ae0cc6626e37",
   "metadata": {},
   "source": [
    "### Problem_3: Explain the concept of Type 1 and Type 2 errors in hypothesis testing. Provide an example scenario for each type of error."
   ]
  },
  {
   "cell_type": "markdown",
   "id": "48736e36-4cc9-4e19-891c-29a820506cb4",
   "metadata": {},
   "source": [
    "  - Type 1 Error (False Positive): Rejecting a true null hypothesis. It's like wrongly accusing someone innocent.        \n",
    "    Example: A medicine claims to cure a disease. A study (with a flaw) rejects the idea that the medicine has no effect (true null hypothesis), when it actually does nothing.\n",
    "    \n",
    "  - Type 2 Error (False Negative): Failing to reject a false null hypothesis. It's like missing a guilty culprit.       \n",
    "    Example: A security test fails to detect a new hacking method (false null hypothesis - the method exists). The company remains unaware of the vulnerability (Type 2 error)."
   ]
  },
  {
   "cell_type": "markdown",
   "id": "f17afbd1-c066-41bf-9083-a9001b55c068",
   "metadata": {},
   "source": [
    "### Problem_4:Explain Bayes's theorem with an example."
   ]
  },
  {
   "cell_type": "markdown",
   "id": "5b6a2cc9-ee4b-4001-9f66-2d87961a5b75",
   "metadata": {},
   "source": [
    "  - Bayes' theorem helps calculate the probability of an event (cause) considering another event (effect) that already happened.\n",
    "\n",
    "  - Imagine you have two bowls of fruit: bowl A (mostly apples, few oranges) and bowl B (mostly oranges, few apples). You close your eyes and pick a fruit (event A - picking a fruit).  It's an orange (event B - getting an orange). Bayes' theorem helps you calculate the probability that the orange came from bowl B (cause) given that you already know it's an orange (effect).\n",
    "\n",
    "  - Here, the probability of an orange being from bowl B is higher than from bowl A because bowl B has more oranges in the first place.\n",
    "  \n",
    "  - Bayes' Theorem Formula:\n",
    "\n",
    "    P(A | B) = [ P(A) * P(B | A) ] / [ P(A) * P(B | A) + P(B) * P(B | B) ]"
   ]
  },
  {
   "cell_type": "markdown",
   "id": "9f869088-7945-4ac2-9f16-c4d24ed2ae93",
   "metadata": {},
   "source": [
    "### Problem_5:What is a confidence interval? How to calculate the confidence interval, explain with an example."
   ]
  },
  {
   "cell_type": "markdown",
   "id": "5e3b4cb8-630c-498d-887a-00c8fb3868b4",
   "metadata": {},
   "source": [
    "  - A confidence interval (CI) tells you the range of values where the true population parameter (like the mean) is likely to fall within a certain level of confidence (usually a percentage like 95%). It's like a margin of error around your estimate.\n",
    "\n",
    "Calculating a CI involves a few steps:\n",
    "\n",
    "  - Sample statistic: You calculate a statistic (like the mean) from your sample data.\n",
    "  - Standard error: This reflects how much your sample statistic might differ from the population parameter due to sampling variability. It considers factors like sample size.\n",
    "  - Critical value: This value depends on your chosen confidence level and the type of test (e.g., z-test, t-test). \n",
    "  - Confidence interval formula: Generally, CI = sample statistic ± (critical value x standard error).\n",
    "  \n",
    "Example: Imagine you measure the heights of 20 college students (sample) and find an average height of 68 inches (sample mean). You want a 95% confidence interval.\n",
    "\n",
    "  - Look up the z-critical value for 95% confidence (around 1.96).\n",
    "  - Estimate the standard error.   \n",
    "  \n",
    "  \n",
    "Calculate the CI:       \n",
    "\n",
    "  - CI = 68 inches ± (1.96 x 1 inch)\n",
    "  - CI = (68 - 1.96, 68 + 1.96)\n",
    "  - CI = (66.04 inches, 69.96 inches)\n",
    "There's a 95% chance the true average student height (population parameter) falls between 66.04 and 69.96 inches. The wider the CI, the less precise your estimate due to sampling variability."
   ]
  },
  {
   "cell_type": "markdown",
   "id": "2eb9d28c-300e-4f4c-8d7b-800c168666e4",
   "metadata": {},
   "source": [
    "### Problem_6: Use Bayes' Theorem to calculate the probability of an event occurring given prior knowledge of the event's probability and new evidence. Provide a sample problem and solution."
   ]
  },
  {
   "cell_type": "markdown",
   "id": "71e195d0-4773-4ec7-8f41-faf261f9404f",
   "metadata": {},
   "source": [
    "Scenario:\n",
    "\n",
    "Astronauts on the International Space Station (ISS) can contract Space Flu. A thermometer is the only diagnostic tool available. Here's what we know:\n",
    "\n",
    "  - Prior probability (P):\n",
    "     - P(A): Probability of an astronaut having Space Flu (e.g., very rare, 2%)\n",
    "     - P(not A): Probability of an astronaut NOT having Space Flu (100% - 2% = 98%)\n",
    "  - Conditional probabilities (P|):\n",
    "     - P(B | A): Probability of a positive temperature reading given an astronaut has Space Flu (e.g., very high, 90%)\n",
    "     - P(B | not A): Probability of a positive temperature reading given an astronaut does NOT have Space Flu (e.g., low, but not zero, 5%)  \n",
    "We want to find: P(A | B) - The probability of an astronaut having Space Flu (cause) given they have a positive temperature reading (effect).\n",
    "\n",
    "Applying Bayes' theorem:\n",
    "\n",
    "P(A | B) = [ P(A) * P(B | A) ] / [ P(A) * P(B | A) + P(not A) * P(B | not A) ]\n",
    "\n",
    "Step 1: Plug in the values\n",
    "  - P(A) = 0.02 (from prior probabilities)\n",
    "  - P(not A) = 0.98\n",
    "  - P(B | A) = 0.9\n",
    "  - P(B | not A) = 0.05\n",
    "\n",
    "Step 2: Calculate\n",
    "  - P(A | B) = [0.02 * 0.9] / [0.02 * 0.9 + 0.98 * 0.05] = 0.018 / 0.099 ≈ 0.182"
   ]
  },
  {
   "cell_type": "markdown",
   "id": "4a7c20ca-02d8-4cee-a71a-f716341c5912",
   "metadata": {},
   "source": [
    "### Problem_7: Calculate the 95% confidence interval for a sample of data with a mean of 50 and a standard deviation of 5. Interpret the results."
   ]
  },
  {
   "cell_type": "markdown",
   "id": "af63626d-a3c0-437d-9431-45c255a730b9",
   "metadata": {},
   "source": [
    "Calculating the Confidence Interval\n",
    "\n",
    "We can calculate the CI using the following formula:      \n",
    "  - CI = sample mean ± (z-critical * standard deviation)\n",
    "  \n",
    "where:\n",
    "  - CI is the confidence interval\n",
    "  - sample mean is the mean of the sample data\n",
    "  - standard deviation is the standard deviation of the sample data\n",
    "  - z-critical is the z-score for the chosen confidence level (95% in this case)\n",
    "\n",
    "This means that we can be 95% confident that the true population mean lies somewhere between 40.20 and 59.80. In other words, there is a 95% chance that if we were to take another random sample from the same population, the sample mean would fall within this interval."
   ]
  },
  {
   "cell_type": "markdown",
   "id": "b6fcff71-a567-45d8-b4f4-ba78de3b3a37",
   "metadata": {},
   "source": [
    "### Problem_8: What is the margin of error in a confidence interval? How does sample size affect the margin of error? Provide an example of a scenario where a larger sample size would result in a smaller margin of error."
   ]
  },
  {
   "cell_type": "markdown",
   "id": "75b1538b-8c2d-4e18-922d-2f6e9a833297",
   "metadata": {},
   "source": [
    "  - The margin of error (ME) in a confidence interval (CI) represents the amount of uncertainty around the estimated population mean. It's like the \"buffer zone\" on either side of the sample mean within the CI. The smaller the ME, the more precise the CI and the closer we are to pinpointing the true population mean.\n",
    "\n",
    "Here's how sample size affects the margin of error:\n",
    "\n",
    "  - Larger sample size: As the number of data points in your sample increases, the ME generally shrinks. This is because a larger sample provides a more accurate picture of the population, leading to a more precise estimate of the mean.\n",
    "\n",
    "  - Smaller sample size: With fewer data points, there's more room for sampling variability. The ME widens, resulting in a less precise CI. We are less certain about where the true population mean might lie within the wider range.\n",
    "\n",
    "Scenario:\n",
    "\n",
    "Imagine you want to know the average lifespan of a particular dog breed.\n",
    "\n",
    "  - Small sample (20 dogs): The CI might be wide, ranging from 10 to 15 years, with a large ME. This indicates uncertainty about the true average lifespan.\n",
    "\n",
    "  - Large sample (200 dogs): The CI might be narrower, like 12 to 14 years, with a smaller ME. This provides a more precise estimate of the average lifespan due to the larger sample size."
   ]
  },
  {
   "cell_type": "markdown",
   "id": "f3463740-6dee-4809-b466-026503feaf38",
   "metadata": {},
   "source": [
    "### Problem_9: Calculate the z-score for a data point with a value of 75, a population mean of 70, and a population standard deviation of 5. Interpret the results."
   ]
  },
  {
   "cell_type": "markdown",
   "id": "43a1b731-b2b5-42e1-89d7-65f1e3165d6d",
   "metadata": {},
   "source": [
    "Given a data point value of 75, a population mean of 70, and a population standard deviation of 5, we can calculate the z-score using the following formula:\n",
    "\n",
    "  - z = (data point - mean) / standard deviation"
   ]
  },
  {
   "cell_type": "code",
   "execution_count": 1,
   "id": "66c59cac-734a-4883-b6fd-3f873799b82b",
   "metadata": {},
   "outputs": [
    {
     "name": "stdout",
     "output_type": "stream",
     "text": [
      "Z-score: 1.00\n",
      "The data point is 1.0 standard deviations above the population mean.\n"
     ]
    }
   ],
   "source": [
    "import scipy.stats as stats\n",
    "\n",
    "# Data point value\n",
    "data_point = 75\n",
    "\n",
    "# Population mean and standard deviation\n",
    "population_mean = 70\n",
    "population_std = 5\n",
    "\n",
    "# Calculate the z-score\n",
    "z_score = (data_point - population_mean) / population_std\n",
    "\n",
    "# Print the z-score\n",
    "print(f\"Z-score: {z_score:.2f}\")\n",
    "\n",
    "# Interpretation\n",
    "if z_score > 0:\n",
    "    print(\"The data point is\", abs(z_score), \"standard deviations above the population mean.\")\n",
    "elif z_score < 0:\n",
    "    print(\"The data point is\", abs(z_score), \"standard deviations below the population mean.\")\n",
    "else:\n",
    "    print(\"The data point is equal to the population mean.\")\n"
   ]
  },
  {
   "cell_type": "markdown",
   "id": "c01f67b1-a37f-4ee8-9840-789050909ffd",
   "metadata": {},
   "source": [
    "### Problem_10: In a study of the effectiveness of a new weight loss drug, a sample of 50 participants lost an average of 6 pounds with a standard deviation of 2.5 pounds. Conduct a hypothesis test to determine if the drug is significantly effective at a 95% confidence level using a t-test."
   ]
  },
  {
   "cell_type": "markdown",
   "id": "4b88a460-940b-465d-a94d-c7fbd7dbd9f9",
   "metadata": {},
   "source": [
    "Hypothesis Test: Weight Loss Drug Effectiveness\n",
    "\n",
    "  - Scenario: We want to assess if a new weight loss drug is effective (has a significant impact on weight loss) at a 95% confidence level. \n",
    "\n",
    "  - Null Hypothesis (H0): The drug has NO significant effect on weight loss. On average, people lose 0 pounds (mean weight loss = 0).\n",
    "  \n",
    "  - Alternative Hypothesis (Ha): The drug has a significant effect on weight loss. On average, people lose more than 0 pounds (mean weight loss > 0).\n",
    "  - Test Statistic: Since we have a small sample size (n=50) and the population standard deviation is unknown, we'll use a one-tailed t-test.\n",
    "  \n",
    "Steps:\n",
    "\n",
    "1. Calculate the t-statistic:\n",
    "   - t = (sample mean - hypothesized mean) / (standard deviation / sqrt(sample size))\n",
    "   - t = (6 - 0) / (2.5 / sqrt(50)) ≈ 9.6\n",
    "2. Degrees of Freedom:  df = n - 1 = 50 - 1 = 49    \n",
    "\n",
    "3. Critical Value:  Look up the one-tailed t-critical value for a confidence level of 95% and degrees of freedom (df) of 49.  Using a t-table or software, we find the critical value to be around 1.677.\n",
    "\n",
    "3. Decision Rule:\n",
    "   - Reject H0 (the drug is effective) if the calculated t-statistic (9.6) is GREATER THAN the critical value (1.677).\n",
    "\n",
    "Interpretation:\n",
    "  - Our calculated t-statistic (9.6) is significantly greater than the critical value (1.677).  This strong evidence allows us to reject the null hypothesis (H0).\n",
    "  \n",
    "Conclusion:\n",
    "  - At a 95% confidence level, there is significant evidence to suggest that the weight loss drug is effective in causing weight loss (average loss exceeding 0 pounds) compared to no effect."
   ]
  },
  {
   "cell_type": "markdown",
   "id": "f4c4a54e-5e6a-4bc3-9a2a-73cda36dae19",
   "metadata": {},
   "source": [
    "### Problem_11: In a survey of 500 people, 65% reported being satisfied with their current job. Calculate the 95% confidence interval for the true proportion of people who are satisfied with their job."
   ]
  },
  {
   "cell_type": "markdown",
   "id": "dc60e4c3-98c7-4076-a398-2f5acee89f80",
   "metadata": {},
   "source": [
    "1. Sample Proportion (p̂):\n",
    "   - We know 65% of the 500 people reported satisfaction, so the sample proportion (p̂) is 0.65.    \n",
    "  \n",
    "2. Critical Value (z):\n",
    "   - We want a 95% confidence interval, so the significance level (α) is 1 - 0.95 = 0.05.\n",
    "   - Since the sample size (n) is large (n = 500), we can use the normal approximation and find the critical value (z) from the standard normal distribution table corresponding to a two-tailed test with α/2 = 0.025.\n",
    "   - Using a z-table, the critical value (z) is approximately 1.96.\n",
    "  \n",
    "3. Standard Error (SE):\n",
    "   - The standard error (SE) helps account for the sampling variability and is calculated using the formula:\n",
    "     - SE = sqrt(p̂ * (1 - p̂) / n)\n",
    "     \n",
    "4. Confidence Interval (CI):\n",
    "   - The confidence interval is calculated using the formula:\n",
    "     - CI = p̂ ± (z * SE)\n",
    "     \n",
    "Calculation:\n",
    "   - SE = sqrt(0.65 * (1 - 0.65) / 500) ≈ 0.022\n",
    "   - CI = 0.65 ± (1.96 * 0.022) ≈ (0.607, 0.693)\n",
    "  \n",
    "Interpretation:\n",
    "   - We can be 95% confident that the true proportion of people satisfied with their job in the entire population falls between 60.7% and 69.3%. This interval captures the range where the population proportion is likely to reside with a 95% level of confidence."
   ]
  },
  {
   "cell_type": "markdown",
   "id": "2ac0dc7a-8bc4-4d16-9d93-6829e49c753e",
   "metadata": {},
   "source": [
    "### Problem_12: A researcher is testing the effectiveness of two different teaching methods on student performance.Sample A has a mean score of 85 with a standard deviation of 6, while sample B has a mean score of 82 with a standard deviation of 5. Conduct a hypothesis test to determine if the two teaching methods have a significant difference in student performance using a t-test with a significance level of 0.01."
   ]
  },
  {
   "cell_type": "markdown",
   "id": "e7686806-d213-4119-804f-e501eb42a5e6",
   "metadata": {},
   "source": [
    "1. Hypotheses:\n",
    "   - Null Hypothesis (H0): There is no significant difference in student performance between the two teaching methods. (Means of populations A and B are equal: μ_A = μ_B)\n",
    "   - Alternative Hypothesis (Ha): There is a significant difference in student performance between the two teaching methods. (Means of populations A and B are not equal: μ_A ≠ μ_B)\n",
    "2. Choosing the Test:\n",
    "   - We have two independent samples (A and B) and are comparing their means.\n",
    "   - Since the population standard deviations are unknown and potentially different, we'll use a two-sample t-test with unequal variances.\n",
    "\n",
    "3. Data & Significance Level:\n",
    "   - Sample A: Mean (x̄_A) = 85, Standard Deviation (SD_A) = 6\n",
    "   - Sample B: Mean (x̄_B) = 82, Standard Deviation (SD_B) = 5\n",
    "   - Significance Level (α) = 0.01 (one-tailed test for a two-tailed alternative hypothesis)\n",
    "\n",
    "4. Steps:\n",
    "   - Calculate the t-statistic: This involves calculations considering both sample sizes and standard deviations.\n",
    "\n",
    "   - Degrees of Freedom (df):  This is estimated using degrees of freedom formula, which considers unequal variances.\n",
    "\n",
    "   - Critical Value: Look up the two-tailed critical t-value for a significance level of 0.01 (one-tailed for the two-tailed alternative hypothesis) and the calculated degrees of freedom (df) from the previous step.\n",
    "\n",
    "   - Decision Rule:\n",
    "     - Reject H0 (a difference exists) if the calculated t-statistic falls outside the critical t-values (one in each tail of the distribution).\n",
    "5. Interpretation:\n",
    "   - Based on the calculated t-statistic, critical value, and decision rule, you can determine if there's enough evidence to reject the null hypothesis and conclude a significant difference in student performance between the two teaching methods."
   ]
  },
  {
   "cell_type": "markdown",
   "id": "954760c6-df7c-4a49-a7e9-972fd8c8a238",
   "metadata": {},
   "source": [
    "### Problem_13: A population has a mean of 60 and a standard deviation of 8. A sample of 50 observations has a mean of 65. Calculate the 90% confidence interval for the true population mean."
   ]
  },
  {
   "cell_type": "markdown",
   "id": "7619b29b-3c44-4da3-91f1-02e3b507bf7a",
   "metadata": {},
   "source": [
    "1. Sample Information:\n",
    "   - Population Mean (μ) = 60\n",
    "   - Population Standard Deviation (σ) = 8\n",
    "   - Sample Size (n) = 50\n",
    "   - Sample Mean (x̄) = 65\n",
    "   - Confidence Level = 90% (which translates to a significance level (α) of 1 - 0.9 = 0.10)\n",
    "\n",
    "2. Critical Value (z):\n",
    "   - Since the sample size (n=50) is relatively large, we can assume a normal distribution and use the standard normal z-table.\n",
    "   - For a 90% confidence level, the significance level is split in half (α/2) for a two-tailed test, which is 0.10 / 2 = 0.05.\n",
    "   - Using a z-table, the critical value (z) corresponding to 0.05 (one-tailed probability) is approximately 1.645.\n",
    "\n",
    "3. Standard Error (SE):\n",
    "   - The standard error considers the population standard deviation (σ) and sample size (n) and reflects the sampling variability.\n",
    "   - SE = σ / sqrt(n) = 8 / sqrt(50) ≈ 1.13\n",
    "\n",
    "4. Confidence Interval (CI):\n",
    "   - The confidence interval captures the range where the true population mean is likely to reside with a certain level of confidence (90% in this case).\n",
    "   - CI = x̄ ± (z * SE)\n",
    "\n",
    "5. Calculation:\n",
    "   - CI = 65 ± (1.645 * 1.13) ≈ (62.73, 67.27)\n",
    "\n",
    "6. Interpretation:\n",
    "   - We can be 90% confident that the true population mean (μ) falls between 62.73 and 67.27. Even though the sample mean (65) deviates slightly from the population mean (60), the confidence interval encompasses both values due to sampling variability.\n"
   ]
  },
  {
   "cell_type": "markdown",
   "id": "93f6fe12-0c64-457e-93d7-63943b437428",
   "metadata": {},
   "source": [
    "### Problem_14: In a study of the effects of caffeine on reaction time, a sample of 30 participants had an average reaction time of 0.25 seconds with a standard deviation of 0.05 seconds. Conduct a hypothesis test to determine if the caffeine has a significant effect on reaction time at a 90% confidence level using a t-test."
   ]
  },
  {
   "cell_type": "markdown",
   "id": "d4f044fc-5270-412d-b34c-e892e06e8a4e",
   "metadata": {},
   "source": [
    "1. Hypotheses:\n",
    "   - Null Hypothesis (H0): Caffeine has no significant effect on reaction time. The population mean reaction time with and without caffeine is equal (μ = μ₀, some pre-defined value).\n",
    "   - Alternative Hypothesis (Ha): Caffeine has a significant effect on reaction time. The population mean reaction time is different with and without caffeine (μ ≠ μ₀).\n",
    "\n",
    "2. Choosing the Test:\n",
    "   - We have one sample, and we're comparing it to a hypothetical value (no caffeine effect).\n",
    "   - Since the sample size (n = 30) is less than 30 and the population standard deviation is unknown, we'll use a one-tailed t-test.\n",
    "\n",
    "3. Data & Significance Level:\n",
    "   - Sample Mean (x̄) = 0.25 seconds\n",
    "   - Sample Standard Deviation (SD) = 0.05 seconds\n",
    "   - Sample Size (n) = 30 participants\n",
    "   - Significance Level (α) = 1 - 0.90 = 0.10 (one-tailed test for a two-tailed alternative hypothesis)\n",
    "\n",
    "4. Steps:   \n",
    "   - Calculate the t-statistic:\n",
    "     - We are using t-table to find the t-statistic based on the sample mean, standard deviation, and sample size.\n",
    "     \n",
    "   - Degrees of Freedom (df):\n",
    "     - df = n - 1 = 30 - 1 = 29\n",
    "     \n",
    "   - Critical Value:\n",
    "     - Look up the one-tailed critical t-value for a significance level of 0.10 (one-tailed test) and degrees of freedom (df) of 29. \n",
    "     - Using a t-table, find the critical value (t_critical).\n",
    "     \n",
    "   - Decision Rule:\n",
    "     - Reject H0 (caffeine has an effect) if the calculated t-statistic is less than the critical t-value (t_critical) since we're interested in a decrease in reaction time (one-tailed test).\n",
    "\n",
    "5. Interpretation:\n",
    "   - Based on the calculated t-statistic, critical value, and decision rule, you can determine if there's enough evidence to reject the null hypothesis and conclude that caffeine has a significant effect on reaction time."
   ]
  }
 ],
 "metadata": {
  "kernelspec": {
   "display_name": "Python 3 (ipykernel)",
   "language": "python",
   "name": "python3"
  },
  "language_info": {
   "codemirror_mode": {
    "name": "ipython",
    "version": 3
   },
   "file_extension": ".py",
   "mimetype": "text/x-python",
   "name": "python",
   "nbconvert_exporter": "python",
   "pygments_lexer": "ipython3",
   "version": "3.10.8"
  }
 },
 "nbformat": 4,
 "nbformat_minor": 5
}
